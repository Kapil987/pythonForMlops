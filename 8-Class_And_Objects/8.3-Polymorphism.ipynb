{
 "cells": [
  {
   "cell_type": "markdown",
   "metadata": {},
   "source": [
    "#### Polymorphism\n",
    "Polymorphism is a core concept in Object-Oriented Programming (OOP) that allows objects of different classes to be treated as objects of a common superclass. It provides a way to perform a single action in different forms. Polymorphism is typically achieved through method overriding and interfaces"
   ]
  },
  {
   "cell_type": "markdown",
   "metadata": {},
   "source": [
    "###  Method Overriding\n",
    "Method overriding allows a child class to provide a specific implementation of a method that is already defined in its parent class."
   ]
  },
  {
   "cell_type": "markdown",
   "metadata": {},
   "source": [
    "Q: When i use + with integers it adds if i use it with strings it concatinates ?\n",
    "\n",
    "2 + 2 = 4\n",
    "'Hello' + 'World' = HelloWorld\n",
    "\n",
    "Ans: Yes, that statement perfectly illustrates both **polymorphism** and **operator overloading** in action.\n",
    "\n",
    "* **Polymorphism:** The `+` operator demonstrates \"many forms\" of behavior. It can perform arithmetic addition when used with integers and string concatenation when used with strings. The same symbol exhibits different actions based on the context (the data types involved).\n",
    "\n",
    "* **Operator Overloading:** Python allows the standard operators like `+` to be redefined to work with different data types. The special methods within the `int` class define how `+` performs addition, while the special methods within the `str` class define how `+` performs concatenation. This ability to give an operator multiple meanings based on the operands is operator overloading.\n",
    "\n",
    "So, your understanding is spot on! The dual behavior of the `+` operator is a classic example of both concepts working together."
   ]
  },
  {
   "cell_type": "code",
   "execution_count": 2,
   "metadata": {},
   "outputs": [
    {
     "name": "stdout",
     "output_type": "stream",
     "text": [
      "Woof!\n",
      "Meow!\n",
      "animal_speak function ->  Woof!\n",
      "animal_speak function ->  Meow!\n"
     ]
    }
   ],
   "source": [
    "## Base Class\n",
    "class Animal:\n",
    "    def speak(self):\n",
    "        return \"Sound of the animal\"\n",
    "    \n",
    "## Derived Class 1\n",
    "class Dog(Animal):\n",
    "    def speak(self):\n",
    "        return \"Woof!\"\n",
    "    \n",
    "## Derived class\n",
    "class Cat(Animal):\n",
    "    def speak(self):\n",
    "        return \"Meow!\"\n",
    "    \n",
    "## Function that demonstrates polymorphism\n",
    "def animal_speak(animal1): # animal1 = dog\n",
    "    print('animal_speak function -> ',animal1.speak()) # dog.speak()\n",
    "    \n",
    "dog=Dog()\n",
    "cat=Cat()\n",
    "print(dog.speak())\n",
    "print(cat.speak())\n",
    "\n",
    "animal_speak(dog)\n",
    "\n",
    "animal_speak(cat)\n"
   ]
  },
  {
   "cell_type": "markdown",
   "metadata": {},
   "source": [
    "#### Conclusion\n",
    "Polymorphism is a powerful feature of OOP that allows for flexibility and integration in code design. It enables a single function to handle objects of different classes, each with its own implementation of a method. By understanding and applying polymorphism, you can create more extensible and maintainable object-oriented programs."
   ]
  }
 ],
 "metadata": {
  "kernelspec": {
   "display_name": "base",
   "language": "python",
   "name": "python3"
  },
  "language_info": {
   "codemirror_mode": {
    "name": "ipython",
    "version": 3
   },
   "file_extension": ".py",
   "mimetype": "text/x-python",
   "name": "python",
   "nbconvert_exporter": "python",
   "pygments_lexer": "ipython3",
   "version": "3.12.7"
  }
 },
 "nbformat": 4,
 "nbformat_minor": 2
}
