{
 "cells": [
  {
   "cell_type": "markdown",
   "metadata": {},
   "source": [
    "#### Polymorphism\n",
    "Polymorphism is a core concept in Object-Oriented Programming (OOP) that allows objects of different classes to be treated as objects of a common superclass. It provides a way to perform a single action in different forms. Polymorphism is typically achieved through method overriding and interfaces"
   ]
  },
  {
   "cell_type": "markdown",
   "metadata": {},
   "source": [
    "###  Method Overriding\n",
    "Method overriding allows a child class to provide a specific implementation of a method that is already defined in its parent class."
   ]
  },
  {
   "cell_type": "markdown",
   "metadata": {},
   "source": [
    "Q: When i use + with integers it adds if i use it with strings it concatinates ?\n",
    "\n",
    "2 + 2 = 4\n",
    "'Hello' + 'World' = HelloWorld\n",
    "\n",
    "Ans: Yes, that statement perfectly illustrates both **polymorphism** and **operator overloading** in action.\n",
    "\n",
    "* **Polymorphism:** The `+` operator demonstrates \"many forms\" of behavior. It can perform arithmetic addition when used with integers and string concatenation when used with strings. The same symbol exhibits different actions based on the context (the data types involved).\n",
    "\n",
    "* **Operator Overloading:** Python allows the standard operators like `+` to be redefined to work with different data types. The special methods within the `int` class define how `+` performs addition, while the special methods within the `str` class define how `+` performs concatenation. This ability to give an operator multiple meanings based on the operands is operator overloading.\n",
    "\n",
    "So, your understanding is spot on! The dual behavior of the `+` operator is a classic example of both concepts working together."
   ]
  },
  {
   "cell_type": "markdown",
   "metadata": {},
   "source": [
    "Compile-time polymorphism (Static polymorphism):\n",
    "\n",
    "This type is resolved during compile time. It is achieved through:\n",
    "Operator overloading: Defining how standard operators (+, -, \\*, /, etc.) behave with objects of a class.\n",
    "Method overloading: Although Python doesn't support traditional method overloading (multiple methods with the same name but different signatures), it can be achieved using default arguments or variable-length arguments.\n",
    "\n",
    "Run-time polymorphism (Dynamic polymorphism):\n",
    "This type is resolved during run time. It is achieved through:\n",
    "Method overriding: Defining a method in a subclass that already exists in its superclass, allowing objects of different classes to respond differently to the same method call.\n",
    "\n",
    "Duck typing: The ability to use objects of different classes interchangeably as long as they support the same methods and attributes, regardless of their actual type."
   ]
  },
  {
   "cell_type": "code",
   "execution_count": 7,
   "metadata": {},
   "outputs": [
    {
     "name": "stdout",
     "output_type": "stream",
     "text": [
      "animal_speak function ->  Meow!\n"
     ]
    }
   ],
   "source": [
    "## Base Class\n",
    "class Animal:\n",
    "    def speak(self):\n",
    "        return \"Sound of the animal\"\n",
    "    \n",
    "## Derived Class 1\n",
    "class Dog(Animal):\n",
    "    # pass\n",
    "    def speak(self):\n",
    "        return \"Woof!\"\n",
    "    \n",
    "## Derived class\n",
    "class Cat(Animal):\n",
    "    # pass\n",
    "    def speak(self):\n",
    "        return \"Meow!\"\n",
    "    \n",
    "## Function that demonstrates polymorphism\n",
    "# instance or function ?\n",
    "def animal_speak(animal1): # animal1 = cat\n",
    "    print('animal_speak function -> ',animal1.speak()) # cat.speak()\n",
    "    \n",
    "dog=Dog() # object of the class Dog\n",
    "cat=Cat() # # object of the class Cat\n",
    "# print(dog.speak())\n",
    "# print(cat.speak()) #\n",
    "\n",
    "# animal_speak(dog)\n",
    "\n",
    "animal_speak(cat)\n"
   ]
  },
  {
   "cell_type": "markdown",
   "metadata": {},
   "source": [
    "#### Conclusion\n",
    "Polymorphism is a powerful feature of OOP that allows for flexibility and integration in code design. It enables a single function to handle objects of different classes, each with its own implementation of a method. By understanding and applying polymorphism, you can create more extensible and maintainable object-oriented programs."
   ]
  }
 ],
 "metadata": {
  "kernelspec": {
   "display_name": "base",
   "language": "python",
   "name": "python3"
  },
  "language_info": {
   "codemirror_mode": {
    "name": "ipython",
    "version": 3
   },
   "file_extension": ".py",
   "mimetype": "text/x-python",
   "name": "python",
   "nbconvert_exporter": "python",
   "pygments_lexer": "ipython3",
   "version": "3.12.7"
  }
 },
 "nbformat": 4,
 "nbformat_minor": 2
}
