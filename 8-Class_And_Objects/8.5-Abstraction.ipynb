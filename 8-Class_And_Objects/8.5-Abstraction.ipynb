{
 "cells": [
  {
   "cell_type": "markdown",
   "metadata": {},
   "source": [
    "#### Abstraction\n",
    "Abstraction is the concept of hiding the complex implementation details and showing only the necessary features of an object. This helps in reducing programming complexity and effort."
   ]
  },
  {
   "cell_type": "markdown",
   "metadata": {},
   "source": [
    "Let's break down this Python code step by step.\n",
    "\n",
    "Imagine you have a general idea of a \"Vehicle\" – it's something you can drive. That's what the `Vehicle` class represents. The `ABC` and `@abstractmethod` parts mean that `Vehicle` is a blueprint, and every specific type of vehicle *must* have a way to \"start its engine.\"\n",
    "\n",
    "Then, you have a specific type of `Vehicle` called a `Car`. It follows the rules of the `Vehicle` blueprint and provides its own specific way to `start_engine` (which is just printing \"Car engine started\").\n",
    "\n",
    "Finally, the `operate_vehicle` function is like a general instruction. It can take *any* type of `Vehicle` and tell it to first `start_engine` and then `drive`.\n",
    "\n",
    "In the last part, you create a `Car` and then use the `operate_vehicle` function with it. So, the car starts its engine and then the general message about driving is printed.\n",
    "\n",
    "In short: You have a general \"Vehicle\" idea with a mandatory \"start engine\" action. A \"Car\" is a specific type of vehicle that knows how to start its engine. You can then operate any vehicle (like your car) by telling it to start and drive."
   ]
  },
  {
   "cell_type": "code",
   "execution_count": 11,
   "metadata": {},
   "outputs": [
    {
     "name": "stdout",
     "output_type": "stream",
     "text": [
      "Car engine started\n",
      "The vehicle is used for driving\n"
     ]
    }
   ],
   "source": [
    "from abc import ABC, abstractmethod\n",
    "\n",
    "## Abstract base class\n",
    "class Vehicle(ABC):\n",
    "    def drive(self):\n",
    "        print(\"The vehicle is used for driving\")\n",
    "\n",
    "# abstract method implementation is usually empty, it enforces the base classes to create the same method\n",
    "    @abstractmethod\n",
    "    def start_engine(self):\n",
    "        pass\n",
    "\n",
    "class Car(Vehicle):\n",
    "    def start_engine(self):\n",
    "        print(\"Car engine started\")\n",
    "    \n",
    "    def demo_function(self):\n",
    "        print('this is a demo function')\n",
    "\n",
    "def operate_vehicle(vehicle):\n",
    "    vehicle.start_engine() # Calls the specific start_engine method of the object\n",
    "    vehicle.drive()        # Calls the drive method of the Vehicle class\n",
    "\n",
    "car = Car()\n",
    "operate_vehicle(car) # Demonstrates polymorphism: the correct start_engine is called based on the object type"
   ]
  },
  {
   "cell_type": "code",
   "execution_count": 10,
   "metadata": {},
   "outputs": [
    {
     "ename": "TypeError",
     "evalue": "Can't instantiate abstract class Car without an implementation for abstract method 'start_engine'",
     "output_type": "error",
     "traceback": [
      "\u001b[1;31m---------------------------------------------------------------------------\u001b[0m",
      "\u001b[1;31mTypeError\u001b[0m                                 Traceback (most recent call last)",
      "Cell \u001b[1;32mIn[10], line 25\u001b[0m\n\u001b[0;32m     22\u001b[0m     vehicle\u001b[38;5;241m.\u001b[39mstart_engine() \u001b[38;5;66;03m# Calls the specific start_engine method of the object\u001b[39;00m\n\u001b[0;32m     23\u001b[0m     vehicle\u001b[38;5;241m.\u001b[39mdrive()        \u001b[38;5;66;03m# Calls the drive method of the Vehicle class\u001b[39;00m\n\u001b[1;32m---> 25\u001b[0m car \u001b[38;5;241m=\u001b[39m Car()\n\u001b[0;32m     26\u001b[0m operate_vehicle(car)\n",
      "\u001b[1;31mTypeError\u001b[0m: Can't instantiate abstract class Car without an implementation for abstract method 'start_engine'"
     ]
    }
   ],
   "source": [
    "# Lets notice the ERROR\n",
    "from abc import ABC, abstractmethod\n",
    "\n",
    "## Abstract base class\n",
    "class Vehicle(ABC):\n",
    "    def drive(self):\n",
    "        print(\"The vehicle is used for driving\")\n",
    "\n",
    "# abstract method implementation is usually empty\n",
    "    @abstractmethod\n",
    "    def start_engine(self):\n",
    "        pass\n",
    "\n",
    "class Car(Vehicle):\n",
    "    # def start_engine(self):\n",
    "    #     print(\"Car engine started\")\n",
    "    \n",
    "    def demo_function(self):\n",
    "        print('this is a demo function')\n",
    "\n",
    "def operate_vehicle(vehicle):\n",
    "    vehicle.start_engine() # Calls the specific start_engine method of the object\n",
    "    vehicle.drive()        # Calls the drive method of the Vehicle class\n",
    "\n",
    "car = Car()\n",
    "operate_vehicle(car) # Demonstrates polymorphism: the correct start_engine is called based on the object type"
   ]
  },
  {
   "cell_type": "code",
   "execution_count": null,
   "metadata": {},
   "outputs": [],
   "source": []
  }
 ],
 "metadata": {
  "kernelspec": {
   "display_name": "base",
   "language": "python",
   "name": "python3"
  },
  "language_info": {
   "codemirror_mode": {
    "name": "ipython",
    "version": 3
   },
   "file_extension": ".py",
   "mimetype": "text/x-python",
   "name": "python",
   "nbconvert_exporter": "python",
   "pygments_lexer": "ipython3",
   "version": "3.12.7"
  }
 },
 "nbformat": 4,
 "nbformat_minor": 2
}
