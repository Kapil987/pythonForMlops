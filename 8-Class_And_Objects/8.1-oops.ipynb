{
 "cells": [
  {
   "cell_type": "markdown",
   "metadata": {},
   "source": [
    "####  Classes and Objects\n",
    "Object-Oriented Programming (OOP) is a programming paradigm that uses \"objects\" to design applications and computer programs. OOP allows for modeling real-world scenarios using classes and objects. This lesson covers the basics of creating classes and objects, including instance variables and methods."
   ]
  },
  {
   "cell_type": "markdown",
   "metadata": {},
   "source": [
    "**Imagine a Blueprint:**\n",
    "\n",
    "Think of the `class Car:` line as creating a **blueprint** for making cars. This blueprint says: \"Hey, if you want to build a car, here's the general idea of what a car is.\"\n",
    "\n",
    "* **`class Car:`**: This is like drawing the basic shape and listing the common features that all cars will have. In this simple blueprint, we haven't listed any specific features yet (that's what `pass` means for now - \"we'll add details later\").\n",
    "\n",
    "**Creating Actual Cars (Objects):**\n",
    "\n",
    "Now, when you write:\n",
    "\n",
    "* **`audi = Car()`**: This is like taking the \"Car\" blueprint and actually building a specific car – an **Audi**. `audi` is now a real, individual car based on the general \"Car\" blueprint. We call this real car an **object** or an **instance** of the `Car` class.\n",
    "\n",
    "* **`bmw = Car()`**: Similarly, this is like using the same \"Car\" blueprint to build another specific car – a **BMW**. `bmw` is another individual **object** of the `Car` class.\n",
    "\n",
    "**Checking What They Are:**\n",
    "\n",
    "* **`print(type(audi))`**: This line is like asking, \"What kind of thing is `audi`?\" Python will tell you that `audi` is an object (an instance) of the `Car` class. The output will be something like `<class '__main__.Car'>`. This confirms that you successfully used the `Car` blueprint to create the `audi` object.\n",
    "\n",
    "**In Simple Terms:**\n",
    "\n",
    "* **Class (`Car`)**: Think of it as a **recipe** or a **mold** for creating something. It defines the general structure and characteristics.\n",
    "* **Object (`audi`, `bmw`)**: Think of it as the **actual thing** you created using the recipe or the mold. Each object is a specific instance of the class.\n"
   ]
  },
  {
   "cell_type": "code",
   "execution_count": null,
   "metadata": {},
   "outputs": [
    {
     "name": "stdout",
     "output_type": "stream",
     "text": [
      "<class '__main__.Car'>\n"
     ]
    }
   ],
   "source": [
    "### A class is a blue print for creating objects. Attributes,methods\n",
    "class Car:\n",
    "    pass\n",
    "\n",
    "audi=Car() # instance of class car\n",
    "bmw=Car()   # # instance of class car\n",
    "\n",
    "print(type(audi))\n"
   ]
  },
  {
   "cell_type": "code",
   "execution_count": 2,
   "metadata": {},
   "outputs": [
    {
     "name": "stdout",
     "output_type": "stream",
     "text": [
      "<__main__.Car object at 0x0000028D2B94FD40>\n",
      "<__main__.Car object at 0x0000028D2B8789E0>\n"
     ]
    }
   ],
   "source": [
    "print(audi)\n",
    "print(bmw)"
   ]
  },
  {
   "cell_type": "code",
   "execution_count": 3,
   "metadata": {},
   "outputs": [
    {
     "name": "stdout",
     "output_type": "stream",
     "text": [
      "4\n"
     ]
    }
   ],
   "source": [
    "# defining attributes like below is not a better way will learn later how to define attributes using construtors etc\n",
    "audi.windows=4\n",
    "\n",
    "print(audi.windows)"
   ]
  },
  {
   "cell_type": "code",
   "execution_count": 5,
   "metadata": {},
   "outputs": [
    {
     "name": "stdout",
     "output_type": "stream",
     "text": [
      "4\n"
     ]
    }
   ],
   "source": [
    "tata=Car()\n",
    "tata.doors=4\n",
    "\n",
    "# the below shows error becuase we have not defined windows for tata\n",
    "# print(tata.windows)\n",
    "print(tata.doors)"
   ]
  },
  {
   "cell_type": "code",
   "execution_count": null,
   "metadata": {},
   "outputs": [
    {
     "data": {
      "text/plain": [
       "['__class__',\n",
       " '__delattr__',\n",
       " '__dict__',\n",
       " '__dir__',\n",
       " '__doc__',\n",
       " '__eq__',\n",
       " '__format__',\n",
       " '__ge__',\n",
       " '__getattribute__',\n",
       " '__getstate__',\n",
       " '__gt__',\n",
       " '__hash__',\n",
       " '__init__',\n",
       " '__init_subclass__',\n",
       " '__le__',\n",
       " '__lt__',\n",
       " '__module__',\n",
       " '__ne__',\n",
       " '__new__',\n",
       " '__reduce__',\n",
       " '__reduce_ex__',\n",
       " '__repr__',\n",
       " '__setattr__',\n",
       " '__sizeof__',\n",
       " '__str__',\n",
       " '__subclasshook__',\n",
       " '__weakref__',\n",
       " 'doors']"
      ]
     },
     "execution_count": 7,
     "metadata": {},
     "output_type": "execute_result"
    }
   ],
   "source": [
    "# when you purchase a car you get inbuilt features right like, AC, Power driver, Power windows, music system etc\n",
    "# Note doors which we have defined above is also available in dir(tata)\n",
    "# Note: there is an attribute named as __init__ in the below\n",
    "dir(tata)"
   ]
  },
  {
   "cell_type": "markdown",
   "metadata": {},
   "source": [
    "Imagine you're ordering a custom-built LEGO car from a catalog (the class). The catalog shows the general model, but you want to specify certain things *when your car is being built*, like its color, the type of wheels, or maybe even a special spoiler.\n",
    "\n",
    "**Think of it this way:**\n",
    "\n",
    "* **Without a constructor:** Creating an object is like getting a blank LEGO car base. You'd have to manually add each wheel, the windshield, the doors, and decide on the color *after* you've got the basic base. This can be error-prone and less organized.\n",
    "\n",
    "* **With a constructor (`__init__`)**: Creating an object is like ordering your LEGO car with specific instructions. You say, \"Build me a car that's an Audi A4 and silver.\" The constructor ensures that when the car is built (the object is created), it already has these properties set up correctly from the start.\n",
    "\n",
    "**In summary, the constructor (`__init__`) is crucial for:**\n",
    "\n",
    "* **Initializing the state (attributes) of an object.**\n",
    "* **Ensuring objects are created in a usable state.**\n",
    "* **Simplifying object creation by setting multiple attributes at once.**\n",
    "* **Performing necessary setup operations when an object is instantiated.**\n",
    "\n",
    "`self` refers to the particular Car object that is currently being initialized\n"
   ]
  },
  {
   "cell_type": "code",
   "execution_count": 6,
   "metadata": {},
   "outputs": [],
   "source": [
    "### Instance Variable and Methods\n",
    "class Dog:\n",
    "    ## constructor\n",
    "    def __init__(self,name,age1):\n",
    "        # print('i have been called')\n",
    "        self.name=name\n",
    "        self.age=age1\n",
    "\n",
    "## create objects\n",
    "# dogtest=Dog() # error\n",
    "dog1=Dog(\"Buddy\",3)\n",
    "# print(dog1)\n",
    "# print(dog1.name)\n",
    "# print(dog1.age)\n",
    "    \n",
    "    "
   ]
  },
  {
   "cell_type": "code",
   "execution_count": 7,
   "metadata": {},
   "outputs": [
    {
     "name": "stdout",
     "output_type": "stream",
     "text": [
      "Lucy\n",
      "4\n"
     ]
    }
   ],
   "source": [
    "dog2=Dog(\"Lucy\",4)\n",
    "print(dog2.name)\n",
    "print(dog2.age)"
   ]
  },
  {
   "cell_type": "code",
   "execution_count": null,
   "metadata": {},
   "outputs": [
    {
     "name": "stdout",
     "output_type": "stream",
     "text": [
      "Buddy says woof\n",
      "Lucy says woof\n"
     ]
    }
   ],
   "source": [
    "## Define a class with instance methods\n",
    "class Dog:\n",
    "    def __init__(self,name,age):\n",
    "        self.name=name\n",
    "        self.age=age\n",
    "    # the below is instance method\n",
    "    def bark(self):\n",
    "        print(f\"{self.name} says woof\")\n",
    "\n",
    "\n",
    "dog1=Dog(\"Buddy\",3)\n",
    "dog1.bark()\n",
    "dog2=Dog(\"Lucy\",4)\n",
    "dog2.bark()\n",
    "\n"
   ]
  },
  {
   "cell_type": "markdown",
   "metadata": {},
   "source": [
    "#### Conclusion\n",
    "Object-Oriented Programming (OOP) allows you to model real-world scenarios using classes and objects. In this lesson, you learned how to create classes and objects, define instance variables and methods, and use them to perform various operations. Understanding these concepts is fundamental to writing effective and maintainable Python code."
   ]
  }
 ],
 "metadata": {
  "kernelspec": {
   "display_name": "base",
   "language": "python",
   "name": "python3"
  },
  "language_info": {
   "codemirror_mode": {
    "name": "ipython",
    "version": 3
   },
   "file_extension": ".py",
   "mimetype": "text/x-python",
   "name": "python",
   "nbconvert_exporter": "python",
   "pygments_lexer": "ipython3",
   "version": "3.12.7"
  }
 },
 "nbformat": 4,
 "nbformat_minor": 2
}
