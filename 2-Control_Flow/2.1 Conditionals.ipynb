{
 "cells": [
  {
   "cell_type": "markdown",
   "metadata": {},
   "source": [
    "#### Conditional Statements (if, elif, else)\n",
    "\n",
    "#### Question\n",
    "### Thought-Provoking\n",
    "\n",
    "- **Scenario:** Imagine you're driving and you approach an intersection.\n",
    "- **Task:** Write down how you would decide:\n",
    "  - **if** the light is **GREEN**: you drive forward,\n",
    "  - **elif** the light is **YELLOW**: you prepare to stop,\n",
    "  - **else** (if the light is **RED**): you stop completely.\n",
    "- **Follow-Up:** Can you think of another real-life scenario where you’d apply similar decision-making logic using Python's conditional statements?\n",
    "\n",
    "#### Analogy\n",
    "Conditional statements are like a traffic light:\n",
    "\n",
    "- if: If the light is GREEN, you drive forward\n",
    "- elif: Else if the light is YELLOW, you prepare to stop\n",
    "- else: Otherwise (if it's RED), you stop completely\n",
    "\n",
    "Agenda:\n",
    "1. Introduction to Conditional Statements\n",
    "2. if Statement\n",
    "3. else Statement\n",
    "4. elif Statement\n",
    "5. Nested Conditional Statements\n",
    "6. Practical Examples\n",
    "7. Common Errors and Best Practices"
   ]
  },
  {
   "cell_type": "code",
   "execution_count": 11,
   "metadata": {},
   "outputs": [],
   "source": [
    "## if: a next line statement is needed after using if as keyword\n",
    "age=15\n",
    "\n",
    "if age>=18: # true\n",
    "    print(\"You are allowed to vote in the elections\")\n"
   ]
  },
  {
   "cell_type": "code",
   "execution_count": 13,
   "metadata": {},
   "outputs": [
    {
     "name": "stdout",
     "output_type": "stream",
     "text": [
      "You are eligible for voting\n"
     ]
    }
   ],
   "source": [
    "## else\n",
    "## The else statement executes a block of code if the condition in the if statement is False.\n",
    "\n",
    "age=18\n",
    "\n",
    "if age>=18:\n",
    "    print(\"You are eligible for voting\")\n",
    "else:\n",
    "    print(\"You are a minor\")\n",
    "\n"
   ]
  },
  {
   "cell_type": "code",
   "execution_count": null,
   "metadata": {},
   "outputs": [
    {
     "name": "stdout",
     "output_type": "stream",
     "text": [
      "You are a child\n"
     ]
    }
   ],
   "source": [
    "## elif\n",
    "## The elif statement allows you to check multiple conditions. It stands for \"else if\"\n",
    "\n",
    "age=10\n",
    "\n",
    "if age<13:\n",
    "    print(\"You are a child\")\n",
    "# elif age<18:\n",
    "if age<18:\n",
    "    print(\"You are a teenager\")\n",
    "else:\n",
    "    print(\"You are an adult\")"
   ]
  },
  {
   "cell_type": "code",
   "execution_count": null,
   "metadata": {},
   "outputs": [
    {
     "name": "stdout",
     "output_type": "stream",
     "text": [
      "The number is positive\n",
      "The number is odd\n"
     ]
    }
   ],
   "source": [
    "## Nested Condiitonal Statements\n",
    "# You can place one or more if, elif, or else statements inside another if, elif, or else statement to create nested conditional statements.\n",
    "\n",
    "## number even ,odd,negative\n",
    "\n",
    "num=int(input(\"Enter the number\")) # 3\n",
    "\n",
    "if num>0: # True\n",
    "    print(\"The number is positive\")\n",
    "    if num%2==0: # false\n",
    "        print(\"The number is even\")\n",
    "    else:\n",
    "        print(\"The number is odd\")\n",
    "\n",
    "else:\n",
    "    print(\"The number is zero or negative\")"
   ]
  },
  {
   "cell_type": "markdown",
   "metadata": {},
   "source": [
    "# Leap Year Rules (Mathematical Explanation):\n",
    "\n",
    "A year is a leap year if it satisfies any of the following conditions:\n",
    "\n",
    "- Divisible by 4, but not by 100:\n",
    "This means the year must be perfectly divisible by 4 (remainder is 0 when divided by 4).\n",
    "However, if it's also divisible by 100, it's NOT a leap year, unless it also satisfies rule 2.\n",
    "\n",
    "- Divisible by 400:\n",
    "If a year is perfectly divisible by 400, it's always a leap year.\n",
    "\n",
    "- Mathematical Representation:\n",
    "  - year % 4 == 0 (Year is divisible by 4)\n",
    "  - year % 100 != 0 (Year is not divisible by 100)\n",
    "  - year % 400 == 0 (Year is divisible by 400)"
   ]
  },
  {
   "cell_type": "code",
   "execution_count": null,
   "metadata": {},
   "outputs": [
    {
     "name": "stdout",
     "output_type": "stream",
     "text": [
      "2024 is a leap year\n"
     ]
    }
   ],
   "source": [
    "## Practical Examples\n",
    "\n",
    "## Determine if a year is a leap year using nested condition statement\n",
    "\n",
    "## Example\n",
    "# Year 2024:\n",
    "\n",
    "# 2024 % 4 == 0 (Divisible by 4)\n",
    "# 2024 % 100 != 0 (Not divisible by 100) #\n",
    "# Result: 2024 is a leap year.\n",
    "\n",
    "# Year 1900:\n",
    "\n",
    "# 1900 % 4 == 0 (Divisible by 4)            # true\n",
    "# 1900 % 100 == 0 (Divisible by 100)        # True\n",
    "# 1900 % 400 != 0 (Not divisible by 400)    # we wanted it to be divisible by 400 so its a non leap year\n",
    "# Result: 1900 is not a leap year.          # \n",
    "# True = 1, False = 0\n",
    "year = int(input(\"Enter the year: \"))\n",
    "\n",
    "if (year % 4 == 0 and year % 100 != 0) or year % 400 == 0:\n",
    "    print(year, \"is a leap year\")\n",
    "else:\n",
    "    print(year, \"is not a leap year\")\n",
    "\n",
    "# if (year % 4 == 0 and year % 100 != 0) or year % 400 == 0:\n",
    "# if (True(1) and True(1) ) or False(0):\n",
    "# if (True(1) ) or False(0):\n",
    "# if (True(1) ):\n",
    "\n",
    "\n",
    "\n",
    "\n",
    "\n",
    "# if ( True and year % 100 != 0 ) or year % 400 == 0:\n",
    "# if ( True and False ) or year % 400 == 0:\n",
    "# if ( 1 and 0 ) or year % 400 == 0:\n",
    "# if ( False(0) ) or year % 400 == 0:\n",
    "# if False(0) or year % 400 == 0:\n",
    "# if False(0) or False(0):\n",
    "# if False(0):\n"
   ]
  },
  {
   "cell_type": "code",
   "execution_count": 25,
   "metadata": {},
   "outputs": [
    {
     "name": "stdout",
     "output_type": "stream",
     "text": [
      "Result: Error! Division by zero.\n"
     ]
    }
   ],
   "source": [
    "## Assignment\n",
    "## Simple Calculator program\n",
    "# Take user input\n",
    "num1 = float(input(\"Enter first number: \")) # num1 + num2\n",
    "num2 = float(input(\"Enter second number: \"))\n",
    "operation = input(\"Enter operation (+, -, *, /): \")\n",
    "\n",
    "# Perform the requested operation\n",
    "if operation == '+':\n",
    "    result = num1 + num2\n",
    "elif operation == '-':\n",
    "    result = num1 - num2\n",
    "elif operation == '*':\n",
    "    result = num1 * num2\n",
    "elif operation == '/':\n",
    "    if num2 != 0:\n",
    "        result = num1 / num2\n",
    "    else:\n",
    "        result = \"Error! Division by zero.\"\n",
    "else:\n",
    "    result = \"Invalid operation.\"\n",
    "\n",
    "print(\"Result:\", result)"
   ]
  },
  {
   "cell_type": "code",
   "execution_count": 27,
   "metadata": {},
   "outputs": [
    {
     "name": "stdout",
     "output_type": "stream",
     "text": [
      "THIS\n",
      "this\n"
     ]
    }
   ],
   "source": [
    "input_user = \"THIS\"\n",
    "print(input_user)\n",
    "print(input_user.lower())"
   ]
  },
  {
   "cell_type": "code",
   "execution_count": null,
   "metadata": {},
   "outputs": [
    {
     "name": "stdout",
     "output_type": "stream",
     "text": [
      "Ticket Price: $12\n"
     ]
    }
   ],
   "source": [
    "### Determine the ticket price based on age and whether the person is a student.\n",
    "# Ticket pricing based on age and student status\n",
    "\n",
    "# Take user input\n",
    "age = int(input(\"Enter your age: \")) # 17\n",
    "is_student = input(\"Are you a student? (yes/no): \").lower() # lower case the user input YES --> yes\n",
    "\n",
    "# Determine ticket price\n",
    "if age < 5: # false\n",
    "    price = \"Free\"\n",
    "elif age <= 12: # false\n",
    "    price = \"$10\"\n",
    "elif age <= 17: # true\n",
    "    if is_student == 'yes': # true\n",
    "        price = \"$12\"\n",
    "    else:\n",
    "        price = \"$15\"\n",
    "elif age <= 64:\n",
    "    if is_student == 'yes':\n",
    "        price = \"$18\"\n",
    "    else:\n",
    "        price = \"$25\"\n",
    "else:\n",
    "    price = \"$20\"\n",
    "\n",
    "print(\"Ticket Price:\", price)\n",
    "\n"
   ]
  },
  {
   "cell_type": "markdown",
   "metadata": {},
   "source": [
    "#### Complex Example 3: Employee Bonus Calculation\n",
    "\n",
    "Calculate an employee's bonus based on their performance rating and years of service."
   ]
  },
  {
   "cell_type": "code",
   "execution_count": null,
   "metadata": {},
   "outputs": [
    {
     "name": "stdout",
     "output_type": "stream",
     "text": [
      "Bonus Amount: $0.00\n",
      "Bonus Amount: $0.00\n"
     ]
    }
   ],
   "source": [
    "# Employee bonus calculation\n",
    "\n",
    "# Take user input\n",
    "years_of_service = int(input(\"Enter years of service: \"))\n",
    "performance_rating = float(input(\"Enter performance rating (1.0 to 5.0): \"))\n",
    "\n",
    "# Determine bonus percentage\n",
    "if performance_rating >= 4.5:\n",
    "    if years_of_service > 10:\n",
    "        bonus_percentage = 20\n",
    "    elif years_of_service > 5:\n",
    "        bonus_percentage = 15\n",
    "    else:\n",
    "        bonus_percentage = 10\n",
    "elif performance_rating >= 3.5:\n",
    "    if years_of_service > 10:\n",
    "        bonus_percentage = 15\n",
    "    elif years_of_service > 5:\n",
    "        bonus_percentage = 10\n",
    "    else:\n",
    "        bonus_percentage = 5\n",
    "else:\n",
    "    bonus_percentage = 0\n",
    "\n",
    "# Calculate bonus amount\n",
    "salary = float(input(\"Enter current salary: \"))\n",
    "bonus_amount = salary * bonus_percentage / 100\n",
    "\n",
    "print(\"Bonus Amount: ${:.2f}\".format(bonus_amount)) # .2: Specifies that you want to display the number with two decimal places.\n",
    "# print(f\"Bonus Amount: ${bonus_amount:.2f}\") # new style\n",
    "\n",
    "# print(\"Bonus Amount: bonus_amount \",bonus_amount) # new style "
   ]
  },
  {
   "cell_type": "markdown",
   "metadata": {},
   "source": [
    "## Complex Example 4: User Login System\n",
    "A simple user login system that checks the username and password."
   ]
  },
  {
   "cell_type": "code",
   "execution_count": null,
   "metadata": {},
   "outputs": [
    {
     "name": "stdout",
     "output_type": "stream",
     "text": [
      "Login successful!\n"
     ]
    }
   ],
   "source": [
    "# User login system\n",
    "\n",
    "# Predefined username and password\n",
    "stored_username = \"admin\"\n",
    "stored_password = \"password123\"\n",
    "\n",
    "# Take user input\n",
    "username = input(\"Enter username: \") # admin\n",
    "password = input(\"Enter password: \") # 1234\n",
    "\n",
    "# Check login credentials\n",
    "if username == stored_username: # True\n",
    "    if password == stored_password: # True\n",
    "        print(\"Login successful!\")\n",
    "    else:\n",
    "        print(\"Incorrect password.\")\n",
    "else:\n",
    "    print(\"Username not found.\")\n"
   ]
  }
 ],
 "metadata": {
  "kernelspec": {
   "display_name": "base",
   "language": "python",
   "name": "python3"
  },
  "language_info": {
   "codemirror_mode": {
    "name": "ipython",
    "version": 3
   },
   "file_extension": ".py",
   "mimetype": "text/x-python",
   "name": "python",
   "nbconvert_exporter": "python",
   "pygments_lexer": "ipython3",
   "version": "3.12.7"
  }
 },
 "nbformat": 4,
 "nbformat_minor": 2
}
