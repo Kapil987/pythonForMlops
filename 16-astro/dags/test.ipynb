{
 "cells": [
  {
   "cell_type": "code",
   "execution_count": 29,
   "id": "cb9972a8",
   "metadata": {},
   "outputs": [
    {
     "name": "stdout",
     "output_type": "stream",
     "text": [
      "Requirement already satisfied: requests in c:\\users\\kkapil\\appdata\\local\\anaconda3\\envs\\wine-mlflow\\lib\\site-packages (2.32.3)\n",
      "Requirement already satisfied: charset-normalizer<4,>=2 in c:\\users\\kkapil\\appdata\\local\\anaconda3\\envs\\wine-mlflow\\lib\\site-packages (from requests) (3.4.1)\n",
      "Requirement already satisfied: idna<4,>=2.5 in c:\\users\\kkapil\\appdata\\local\\anaconda3\\envs\\wine-mlflow\\lib\\site-packages (from requests) (3.10)\n",
      "Requirement already satisfied: urllib3<3,>=1.21.1 in c:\\users\\kkapil\\appdata\\local\\anaconda3\\envs\\wine-mlflow\\lib\\site-packages (from requests) (2.3.0)\n",
      "Requirement already satisfied: certifi>=2017.4.17 in c:\\users\\kkapil\\appdata\\local\\anaconda3\\envs\\wine-mlflow\\lib\\site-packages (from requests) (2025.1.31)\n"
     ]
    }
   ],
   "source": [
    "!pip install requests"
   ]
  },
  {
   "cell_type": "code",
   "execution_count": 30,
   "id": "68c3f9e2",
   "metadata": {},
   "outputs": [],
   "source": [
    "import requests\n",
    "import json\n",
    "from IPython.display import Image\n",
    "import os"
   ]
  },
  {
   "cell_type": "code",
   "execution_count": 31,
   "id": "f6270e3f",
   "metadata": {},
   "outputs": [
    {
     "data": {
      "text/plain": [
       "{'copyright': 'Alexsandro Mota',\n",
       " 'date': '2025-07-12',\n",
       " 'explanation': \"As the Sun set, a bright Full Moon rose on July 10. Its golden light illuminates clouds drifting through southern hemisphere skies in this well-composed telephoto image from Conceição do Coité, Bahia, Brazil. The brightest lunar phase is captured here with both a short and long exposure. The two exposures were combined to reveal details of the lunar surface in bright moonlight and a subtle iridescence along the dramatically backlit cloudscape. Of course, July's Full Moon is a winter moon in the southern hemisphere.  But in the north it's known to some as the Thunder Moon, likely a nod to the sounds of this northern summer month's typically stormy weather.\",\n",
       " 'hdurl': 'https://apod.nasa.gov/apod/image/2507/LUA_JULHO_25_2048.jpg',\n",
       " 'media_type': 'image',\n",
       " 'service_version': 'v1',\n",
       " 'title': 'Clouds and the Golden Moon',\n",
       " 'url': 'https://apod.nasa.gov/apod/image/2507/LUA_JULHO_25_1024.jpg'}"
      ]
     },
     "execution_count": 31,
     "metadata": {},
     "output_type": "execute_result"
    }
   ],
   "source": [
    "api_key='rRtAMsJ6LJjcXv4z5JKCs1Q7IeQ3tdXTb3bFrBw8'\n",
    "url=f'https://api.nasa.gov/planetary/apod?api_key={api_key}'\n",
    "response = requests.get(url)\n",
    "data = response.json()\n",
    "data"
   ]
  },
  {
   "cell_type": "code",
   "execution_count": 32,
   "id": "1b43df14",
   "metadata": {},
   "outputs": [
    {
     "data": {
      "text/html": [
       "<img src=\"https://apod.nasa.gov/apod/image/2507/LUA_JULHO_25_2048.jpg\" width=\"500\"/>"
      ],
      "text/plain": [
       "<IPython.core.display.Image object>"
      ]
     },
     "execution_count": 32,
     "metadata": {},
     "output_type": "execute_result"
    }
   ],
   "source": [
    "image_url = data['hdurl']\n",
    "# image_url\n",
    "Image(url=image_url,width=500)"
   ]
  },
  {
   "cell_type": "code",
   "execution_count": 33,
   "id": "cf066743",
   "metadata": {},
   "outputs": [
    {
     "data": {
      "text/plain": [
       "'2025-07-12'"
      ]
     },
     "execution_count": 33,
     "metadata": {},
     "output_type": "execute_result"
    }
   ],
   "source": [
    "apod_date = data['date']\n",
    "apod_date"
   ]
  },
  {
   "cell_type": "code",
   "execution_count": 34,
   "id": "594de05b",
   "metadata": {},
   "outputs": [
    {
     "name": "stdout",
     "output_type": "stream",
     "text": [
      "Image saved to: c:\\Users\\kkapil\\Documents\\mlops-python\\16-astro\\dags/apod_2025-07-12.jpg\n"
     ]
    }
   ],
   "source": [
    "file_extension = os.path.splitext(image_url)[1]\n",
    "filename = f\"apod_{apod_date}{file_extension}\" # Image will be saved in the current directory\n",
    "\n",
    "# Download and save the image\n",
    "image_response = requests.get(image_url, stream=True)\n",
    "with open(filename, 'wb') as f: # Saves directly to the current directory\n",
    "    for chunk in image_response.iter_content(1024):\n",
    "        f.write(chunk)\n",
    "\n",
    "print(f\"Image saved to: {os.getcwd()}/{filename}\")"
   ]
  },
  {
   "cell_type": "markdown",
   "id": "a359ed5d",
   "metadata": {},
   "source": [
    "#### Connect to postgres db"
   ]
  },
  {
   "cell_type": "code",
   "execution_count": 35,
   "id": "9cc4bd02",
   "metadata": {},
   "outputs": [
    {
     "name": "stdout",
     "output_type": "stream",
     "text": [
      "Requirement already satisfied: psycopg2-binary in c:\\users\\kkapil\\appdata\\local\\anaconda3\\envs\\wine-mlflow\\lib\\site-packages (2.9.10)Note: you may need to restart the kernel to use updated packages.\n",
      "\n",
      "Requirement already satisfied: pandas in c:\\users\\kkapil\\appdata\\local\\anaconda3\\envs\\wine-mlflow\\lib\\site-packages (2.2.3)\n",
      "Requirement already satisfied: tabulate in c:\\users\\kkapil\\appdata\\local\\anaconda3\\envs\\wine-mlflow\\lib\\site-packages (0.9.0)\n",
      "Requirement already satisfied: numpy>=1.22.4 in c:\\users\\kkapil\\appdata\\local\\anaconda3\\envs\\wine-mlflow\\lib\\site-packages (from pandas) (2.2.4)\n",
      "Requirement already satisfied: python-dateutil>=2.8.2 in c:\\users\\kkapil\\appdata\\local\\anaconda3\\envs\\wine-mlflow\\lib\\site-packages (from pandas) (2.9.0.post0)\n",
      "Requirement already satisfied: pytz>=2020.1 in c:\\users\\kkapil\\appdata\\local\\anaconda3\\envs\\wine-mlflow\\lib\\site-packages (from pandas) (2025.2)\n",
      "Requirement already satisfied: tzdata>=2022.7 in c:\\users\\kkapil\\appdata\\local\\anaconda3\\envs\\wine-mlflow\\lib\\site-packages (from pandas) (2025.2)\n",
      "Requirement already satisfied: six>=1.5 in c:\\users\\kkapil\\appdata\\local\\anaconda3\\envs\\wine-mlflow\\lib\\site-packages (from python-dateutil>=2.8.2->pandas) (1.17.0)\n"
     ]
    }
   ],
   "source": [
    "%pip install psycopg2-binary pandas tabulate\n"
   ]
  },
  {
   "cell_type": "code",
   "execution_count": 36,
   "id": "43c5a8f2",
   "metadata": {},
   "outputs": [],
   "source": [
    "# Cell 2: Import necessary libraries\n",
    "import psycopg2\n",
    "import pandas as pd # For better data handling and display in Jupyter"
   ]
  },
  {
   "cell_type": "code",
   "execution_count": 37,
   "id": "9d1a6fa4",
   "metadata": {},
   "outputs": [],
   "source": [
    "# Cell 3: Database Connection Parameters\n",
    "# Replace these with your actual remote PostgreSQL database details\n",
    "db_host = \"database-1.cylcqsak4ngs.us-east-1.rds.amazonaws.com\"  # e.g., database-1.cylccqsa.us-east-1.rds.amazonaws.com\n",
    "db_name = \"postgres\"\n",
    "db_user = \"postgres\"\n",
    "db_password = \"jIBZbI0vDxphkYSJwa7Q\"\n",
    "db_port = \"5432\"  # Default PostgreSQL port"
   ]
  },
  {
   "cell_type": "code",
   "execution_count": 38,
   "id": "c1165194",
   "metadata": {},
   "outputs": [
    {
     "name": "stdout",
     "output_type": "stream",
     "text": [
      "Tables in the database:\n",
      "- apod_data\n",
      "\n",
      "PostgreSQL connection closed.\n"
     ]
    }
   ],
   "source": [
    "# Cell 4: Establish Connection and Retrieve Table Names\n",
    "# Establish the connection\n",
    "conn = psycopg2.connect(\n",
    "    host=db_host,\n",
    "    database=db_name,\n",
    "    user=db_user,\n",
    "    password=db_password,\n",
    "    port=db_port\n",
    ")\n",
    "\n",
    "# Create a cursor object\n",
    "cur = conn.cursor()\n",
    "sql_query = \"\"\"\n",
    "SELECT table_name\n",
    "FROM information_schema.tables\n",
    "WHERE table_schema = 'public'\n",
    "AND table_type = 'BASE TABLE';\n",
    "\"\"\"\n",
    "\n",
    "# Execute the query\n",
    "cur.execute(sql_query)\n",
    "\n",
    "# Fetch all table names\n",
    "table_names = [row[0] for row in cur.fetchall()]\n",
    "\n",
    "print(\"Tables in the database:\")\n",
    "for table in table_names:\n",
    "    print(f\"- {table}\")\n",
    "\n",
    "# Close the cursor and connection\n",
    "cur.close()\n",
    "conn.close()\n",
    "print(\"\\nPostgreSQL connection closed.\")"
   ]
  },
  {
   "cell_type": "code",
   "execution_count": 39,
   "id": "bd856024",
   "metadata": {},
   "outputs": [
    {
     "name": "stdout",
     "output_type": "stream",
     "text": [
      "Data fetched successfully from table 'apod_data':\n",
      "   id                       title  \\\n",
      "0   1         The Veins of Heaven   \n",
      "1   2  Clouds and the Golden Moon   \n",
      "\n",
      "                                                                                                                                                                                                                                                                                                                                                                                                                                                                                                                                                                                                                                                                                                                                                   explanation  \\\n",
      "0  Transfusing sunlight as the sky grew darker, this exceptional display of noctilucent clouds was captured on July 10, reflected in the calm waters of Vallentuna Lake near Stockholm, Sweden. From the edge of space, about 80 kilometers above Earth's surface, the icy clouds themselves still reflect sunlight, even though the Sun is below the horizon as seen from the ground. Usually spotted at high latitudes in summer months, the night shining clouds have made a strong showing so far during the short northern summer nights. Also known as polar mesopheric clouds they are understood to form as water vapor driven into the cold upper atmosphere condenses on the fine dust particles supplied by disintegrating meteors or volcanic ash.   \n",
      "1                                                                      As the Sun set, a bright Full Moon rose on July 10. Its golden light illuminates clouds drifting through southern hemisphere skies in this well-composed telephoto image from Conceição do Coité, Bahia, Brazil. The brightest lunar phase is captured here with both a short and long exposure. The two exposures were combined to reveal details of the lunar surface in bright moonlight and a subtle iridescence along the dramatically backlit cloudscape. Of course, July's Full Moon is a winter moon in the southern hemisphere.  But in the north it's known to some as the Thunder Moon, likely a nod to the sounds of this northern summer month's typically stormy weather.   \n",
      "\n",
      "                                                             url        date  \\\n",
      "0  https://apod.nasa.gov/apod/image/2507/NLCreflectionsHeden.jpg  2025-07-11   \n",
      "1    https://apod.nasa.gov/apod/image/2507/LUA_JULHO_25_1024.jpg  2025-07-12   \n",
      "\n",
      "  media_type  \n",
      "0      image  \n",
      "1      image  \n",
      "\n",
      "PostgreSQL connection closed.\n"
     ]
    }
   ],
   "source": [
    "table_to_fetch = \"apod_data\"\n",
    "# Set display options to show full content for wide columns\n",
    "# pd.set_option('display.max_colwidth', None)\n",
    "# pd.set_option('display.width', None) # Or a large number like 1000\n",
    "\n",
    "# print(df) # Print your DataFrame again\n",
    "\n",
    "conn = None # Initialize conn to None for safety\n",
    "try:\n",
    "    # Establish the connection\n",
    "    conn = psycopg2.connect(\n",
    "        host=db_host,\n",
    "        database=db_name,\n",
    "        user=db_user,\n",
    "        password=db_password,\n",
    "        port=db_port\n",
    "    )\n",
    "\n",
    "    # Create a cursor object\n",
    "    cur = conn.cursor()\n",
    "\n",
    "    # SQL query to select all data from the chosen table\n",
    "    # Using f-strings to embed the table name. Sanitize inputs in production!\n",
    "    sql_query = f\"SELECT * FROM {table_to_fetch};\"\n",
    "\n",
    "    # Execute the query\n",
    "    cur.execute(sql_query)\n",
    "\n",
    "    # Fetch all rows\n",
    "    rows = cur.fetchall()\n",
    "\n",
    "    # Get column names from the cursor description\n",
    "    column_names = [desc[0] for desc in cur.description]\n",
    "\n",
    "    # Convert to a Pandas DataFrame for easy viewing\n",
    "    df = pd.DataFrame(rows, columns=column_names)\n",
    "\n",
    "    print(f\"Data fetched successfully from table '{table_to_fetch}':\")\n",
    "    print(df.head())\n",
    "    # print(df.to_string(index=False))\n",
    "    # print(df[['title', 'date', 'media_type']])\n",
    "\n",
    "except psycopg2.Error as e:\n",
    "    print(f\"Error connecting to PostgreSQL or fetching data: {e}\")\n",
    "finally:\n",
    "    # Close the cursor and connection\n",
    "    if conn: # Ensure conn exists before trying to close\n",
    "        cur.close()\n",
    "        conn.close()\n",
    "        print(\"\\nPostgreSQL connection closed.\")"
   ]
  },
  {
   "cell_type": "code",
   "execution_count": 40,
   "id": "37741759",
   "metadata": {},
   "outputs": [
    {
     "name": "stdout",
     "output_type": "stream",
     "text": [
      "+------+----------------------------+-------------------------------------------------------------------------------------------------------------------------------------------------------------------------------------------------------------------------------------------------------------------------------------------------------------------------------------------------------------------------------------------------------------------------------------------------------------------------------------------------------------------------------------------------------------------------------------------------------------------------------------------------------------------------------------------------------------------------------------------------------------+---------------------------------------------------------------+------------+--------------+\n",
      "|   id | title                      | explanation                                                                                                                                                                                                                                                                                                                                                                                                                                                                                                                                                                                                                                                                                                                                                 | url                                                           | date       | media_type   |\n",
      "|------+----------------------------+-------------------------------------------------------------------------------------------------------------------------------------------------------------------------------------------------------------------------------------------------------------------------------------------------------------------------------------------------------------------------------------------------------------------------------------------------------------------------------------------------------------------------------------------------------------------------------------------------------------------------------------------------------------------------------------------------------------------------------------------------------------+---------------------------------------------------------------+------------+--------------|\n",
      "|    1 | The Veins of Heaven        | Transfusing sunlight as the sky grew darker, this exceptional display of noctilucent clouds was captured on July 10, reflected in the calm waters of Vallentuna Lake near Stockholm, Sweden. From the edge of space, about 80 kilometers above Earth's surface, the icy clouds themselves still reflect sunlight, even though the Sun is below the horizon as seen from the ground. Usually spotted at high latitudes in summer months, the night shining clouds have made a strong showing so far during the short northern summer nights. Also known as polar mesopheric clouds they are understood to form as water vapor driven into the cold upper atmosphere condenses on the fine dust particles supplied by disintegrating meteors or volcanic ash. | https://apod.nasa.gov/apod/image/2507/NLCreflectionsHeden.jpg | 2025-07-11 | image        |\n",
      "|    2 | Clouds and the Golden Moon | As the Sun set, a bright Full Moon rose on July 10. Its golden light illuminates clouds drifting through southern hemisphere skies in this well-composed telephoto image from Conceição do Coité, Bahia, Brazil. The brightest lunar phase is captured here with both a short and long exposure. The two exposures were combined to reveal details of the lunar surface in bright moonlight and a subtle iridescence along the dramatically backlit cloudscape. Of course, July's Full Moon is a winter moon in the southern hemisphere.  But in the north it's known to some as the Thunder Moon, likely a nod to the sounds of this northern summer month's typically stormy weather.                                                                     | https://apod.nasa.gov/apod/image/2507/LUA_JULHO_25_1024.jpg   | 2025-07-12 | image        |\n",
      "+------+----------------------------+-------------------------------------------------------------------------------------------------------------------------------------------------------------------------------------------------------------------------------------------------------------------------------------------------------------------------------------------------------------------------------------------------------------------------------------------------------------------------------------------------------------------------------------------------------------------------------------------------------------------------------------------------------------------------------------------------------------------------------------------------------------+---------------------------------------------------------------+------------+--------------+\n",
      "The DataFrame has 2 rows.\n"
     ]
    }
   ],
   "source": [
    "from tabulate import tabulate\n",
    "\n",
    "# Set options to display full DataFrame\n",
    "pd.set_option('display.max_rows', None)\n",
    "pd.set_option('display.max_columns', None)\n",
    "pd.set_option('display.max_colwidth', None)\n",
    "\n",
    "# Assuming df is your DataFrame with multiple rows\n",
    "print(tabulate(df, headers=\"keys\", tablefmt=\"psql\", showindex=False))\n",
    "print(f\"The DataFrame has {len(df)} rows.\")\n"
   ]
  }
 ],
 "metadata": {
  "kernelspec": {
   "display_name": "wine-mlflow",
   "language": "python",
   "name": "python3"
  },
  "language_info": {
   "codemirror_mode": {
    "name": "ipython",
    "version": 3
   },
   "file_extension": ".py",
   "mimetype": "text/x-python",
   "name": "python",
   "nbconvert_exporter": "python",
   "pygments_lexer": "ipython3",
   "version": "3.10.16"
  }
 },
 "nbformat": 4,
 "nbformat_minor": 5
}
