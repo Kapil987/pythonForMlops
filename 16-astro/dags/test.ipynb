{
 "cells": [
  {
   "cell_type": "code",
   "execution_count": 1,
   "id": "cb9972a8",
   "metadata": {},
   "outputs": [
    {
     "name": "stdout",
     "output_type": "stream",
     "text": [
      "Requirement already satisfied: requests in c:\\users\\kkapil\\appdata\\local\\anaconda3\\envs\\astrodemo\\lib\\site-packages (2.32.4)\n",
      "Requirement already satisfied: charset_normalizer<4,>=2 in c:\\users\\kkapil\\appdata\\local\\anaconda3\\envs\\astrodemo\\lib\\site-packages (from requests) (3.4.2)\n",
      "Requirement already satisfied: idna<4,>=2.5 in c:\\users\\kkapil\\appdata\\local\\anaconda3\\envs\\astrodemo\\lib\\site-packages (from requests) (3.10)\n",
      "Requirement already satisfied: urllib3<3,>=1.21.1 in c:\\users\\kkapil\\appdata\\local\\anaconda3\\envs\\astrodemo\\lib\\site-packages (from requests) (2.5.0)\n",
      "Requirement already satisfied: certifi>=2017.4.17 in c:\\users\\kkapil\\appdata\\local\\anaconda3\\envs\\astrodemo\\lib\\site-packages (from requests) (2025.7.9)\n"
     ]
    }
   ],
   "source": [
    "!pip install requests"
   ]
  },
  {
   "cell_type": "code",
   "execution_count": 1,
   "id": "68c3f9e2",
   "metadata": {},
   "outputs": [],
   "source": [
    "import requests\n",
    "import json\n",
    "from IPython.display import Image\n",
    "import os\n"
   ]
  },
  {
   "cell_type": "code",
   "execution_count": 7,
   "id": "f6270e3f",
   "metadata": {},
   "outputs": [
    {
     "data": {
      "text/plain": [
       "{'copyright': 'Clear Skies',\n",
       " 'date': '2025-07-11',\n",
       " 'explanation': \"Transfusing sunlight as the sky grew darker, this exceptional display of noctilucent clouds was captured on July 10, reflected in the calm waters of Vallentuna Lake near Stockholm, Sweden. From the edge of space, about 80 kilometers above Earth's surface, the icy clouds themselves still reflect sunlight, even though the Sun is below the horizon as seen from the ground. Usually spotted at high latitudes in summer months, the night shining clouds have made a strong showing so far during the short northern summer nights. Also known as polar mesopheric clouds they are understood to form as water vapor driven into the cold upper atmosphere condenses on the fine dust particles supplied by disintegrating meteors or volcanic ash.\",\n",
       " 'hdurl': 'https://apod.nasa.gov/apod/image/2507/NLCreflectionsHeden.jpg',\n",
       " 'media_type': 'image',\n",
       " 'service_version': 'v1',\n",
       " 'title': 'The Veins of Heaven',\n",
       " 'url': 'https://apod.nasa.gov/apod/image/2507/NLCreflectionsHeden.jpg'}"
      ]
     },
     "execution_count": 7,
     "metadata": {},
     "output_type": "execute_result"
    }
   ],
   "source": [
    "api_key='rRtAMsJ6LJjcXv4z5JKCs1Q7IeQ3tdXTb3bFrBw8'\n",
    "url=f'https://api.nasa.gov/planetary/apod?api_key={api_key}'\n",
    "response = requests.get(url)\n",
    "data = response.json()\n",
    "data"
   ]
  },
  {
   "cell_type": "code",
   "execution_count": 8,
   "id": "1b43df14",
   "metadata": {},
   "outputs": [
    {
     "data": {
      "text/html": [
       "<img src=\"https://apod.nasa.gov/apod/image/2507/NLCreflectionsHeden.jpg\" width=\"1000\"/>"
      ],
      "text/plain": [
       "<IPython.core.display.Image object>"
      ]
     },
     "execution_count": 8,
     "metadata": {},
     "output_type": "execute_result"
    }
   ],
   "source": [
    "image_url = data['hdurl']\n",
    "Image(url=image_url,width=1000)"
   ]
  },
  {
   "cell_type": "code",
   "execution_count": 9,
   "id": "cf066743",
   "metadata": {},
   "outputs": [
    {
     "data": {
      "text/plain": [
       "'2025-07-11'"
      ]
     },
     "execution_count": 9,
     "metadata": {},
     "output_type": "execute_result"
    }
   ],
   "source": [
    "apod_date = data['date']\n",
    "apod_date"
   ]
  },
  {
   "cell_type": "code",
   "execution_count": 5,
   "id": "594de05b",
   "metadata": {},
   "outputs": [
    {
     "name": "stdout",
     "output_type": "stream",
     "text": [
      "Image saved to: c:\\Users\\kkapil\\Documents\\mlops-python\\16-astro\\dags/apod_2025-07-11.jpg\n"
     ]
    }
   ],
   "source": [
    "file_extension = os.path.splitext(image_url)[1]\n",
    "filename = f\"apod_{apod_date}{file_extension}\" # Image will be saved in the current directory\n",
    "\n",
    "# Download and save the image\n",
    "image_response = requests.get(image_url, stream=True)\n",
    "with open(filename, 'wb') as f: # Saves directly to the current directory\n",
    "    for chunk in image_response.iter_content(1024):\n",
    "        f.write(chunk)\n",
    "\n",
    "print(f\"Image saved to: {os.getcwd()}/{filename}\")"
   ]
  }
 ],
 "metadata": {
  "kernelspec": {
   "display_name": "astrodemo",
   "language": "python",
   "name": "python3"
  },
  "language_info": {
   "codemirror_mode": {
    "name": "ipython",
    "version": 3
   },
   "file_extension": ".py",
   "mimetype": "text/x-python",
   "name": "python",
   "nbconvert_exporter": "python",
   "pygments_lexer": "ipython3",
   "version": "3.10.18"
  }
 },
 "nbformat": 4,
 "nbformat_minor": 5
}
