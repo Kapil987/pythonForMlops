{
 "cells": [
  {
   "cell_type": "markdown",
   "id": "9269a42f",
   "metadata": {},
   "source": [
    "Save the California Housing dataset to a .csv file using Pandas."
   ]
  },
  {
   "cell_type": "code",
   "execution_count": null,
   "id": "02e076df",
   "metadata": {},
   "outputs": [
    {
     "name": "stdout",
     "output_type": "stream",
     "text": [
      "California Housing data has been saved to california_housing.csv\n"
     ]
    }
   ],
   "source": [
    "import pandas as pd\n",
    "from sklearn.datasets import fetch_california_housing\n",
    "\n",
    "# 1. Fetch the California Housing dataset\n",
    "housing = fetch_california_housing()\n",
    "\n",
    "# 2. Create a Pandas DataFrame\n",
    "# The .data contains the features, and .feature_names contains the column headers for features\n",
    "df = pd.DataFrame(data=housing.data, columns=housing.feature_names)\n",
    "\n",
    "# Add the target variable (median house value) to the DataFrame\n",
    "# The .target contains the values you want to predict\n",
    "df['MedHouseVal'] = housing.target\n",
    "\n",
    "# 3. Save the DataFrame to a CSV file\n",
    "# 'california_housing.csv' is the desired filename\n",
    "# index=False prevents Pandas from writing the DataFrame index as a column in the CSV\n",
    "df.to_csv('california_housing.csv', index=False)\n",
    "\n",
    "print(\"California Housing data has been saved to california_housing.csv\")"
   ]
  },
  {
   "cell_type": "markdown",
   "id": "bf5ea41f",
   "metadata": {},
   "source": [
    "the `.csv` file, the California Housing dataset contains the following columns (features) which describe different aspects of housing blocks in California:\n",
    "\n",
    "* **MedInc (Median Income):** This represents the median income of households in a block.\n",
    "* **HouseAge (Median House Age):** This is the median age of the houses within a block.\n",
    "* **AveRooms (Average Number of Rooms):** This indicates the average number of rooms per dwelling in a block. it's an average.\n",
    "* **AveBedrms (Average Number of Bedrooms):** This is the average number of bedrooms per dwelling in a block. Similar to `AveRooms`, these are not whole numbers.\n",
    "* **Population:** The total population within that housing block.\n",
    "* **AveOccup (Average Occupancy):** This is the average number of household members per dwelling.\n",
    "* **Latitude:** The geographical latitude of the housing block.\n",
    "* **Longitude:** The geographical longitude of the housing block.\n",
    "* **MedHouseVal (Median House Value):** This is the target variable you would typically predict, representing the median house value for homes within that block, expressed in hundreds of thousands of dollars (e.g., a value of 4.526 means $452,600)."
   ]
  }
 ],
 "metadata": {
  "kernelspec": {
   "display_name": "wine-mlflow",
   "language": "python",
   "name": "python3"
  },
  "language_info": {
   "codemirror_mode": {
    "name": "ipython",
    "version": 3
   },
   "file_extension": ".py",
   "mimetype": "text/x-python",
   "name": "python",
   "nbconvert_exporter": "python",
   "pygments_lexer": "ipython3",
   "version": "3.10.16"
  }
 },
 "nbformat": 4,
 "nbformat_minor": 5
}
