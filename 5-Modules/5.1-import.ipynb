{
 "cells": [
  {
   "cell_type": "markdown",
   "metadata": {},
   "source": [
    "##### Importing Modules in Python: Modules and Packages\n",
    "In Python, modules and packages help organize and reuse code. Here's a comprehensive guide on how to import them.\n",
    "\n",
    "In Python, these terms describe ways to organize and reuse code:\n",
    "\n",
    "**1. Module:**\n",
    "\n",
    "* **Think of it like a single Python file (`.py` file).**\n",
    "* It contains Python code: definitions of functions, classes, and variables.\n",
    "* The purpose is to organize related code together, making it easier to understand and maintain.\n",
    "* **Example:** A file named `math_operations.py` could be a module containing functions for addition, subtraction, etc.\n",
    "* You use the `import` statement to bring code from a module into your current script.\n",
    "\n",
    "**2. Package:**\n",
    "\n",
    "* **Think of it like a folder (directory) containing one or more module files (and potentially other packages).**\n",
    "* It provides a way to structure your project and avoid naming conflicts between modules.\n",
    "* **Key requirement:** A package directory must contain a special file named `__init__.py` (even if it's empty in newer Python versions). This file tells Python that the directory should be treated as a package.\n",
    "* **Example:** You might have a package named `my_project` with sub-modules like `data_processing.py`, `visualization.py`, and `utils.py`.\n",
    "* You use `import` with a dot notation to access modules within a package (e.g., `import my_project.data_processing`).\n",
    "\n",
    "**3. Library:**\n",
    "\n",
    "* **Think of it as a collection of related modules and packages.**\n",
    "* It provides a set of functionalities for a specific purpose or domain.\n",
    "* Libraries are usually larger and more comprehensive than individual modules or small packages.\n",
    "* **Example:**\n",
    "    * `NumPy` is a library for numerical computing. It contains many modules and packages for array manipulation, linear algebra, etc.\n",
    "    * `requests` is a library for making HTTP requests.\n",
    "    * `matplotlib` is a library for creating plots and visualizations.\n",
    "* You typically install libraries using package managers like `pip`. Once installed, you can import modules or packages from the library into your code.\n",
    "\n",
    "**Analogy:**\n",
    "\n",
    "* **Module:** A single recipe in a cookbook.\n",
    "* **Package:** A section in the cookbook containing related recipes (e.g., \"Desserts\", \"Main Courses\").\n",
    "* **Library:** The entire cookbook, containing many sections (packages) and individual recipes (modules) for various types of cooking.\n",
    "\n",
    "**In summary:**\n",
    "\n",
    "* A **module** is a single file of Python code.\n",
    "* A **package** is a directory containing modules (and an `__init__.py` file) to organize them.\n",
    "* A **library** is a collection of related modules and packages that provide a set of functionalities."
   ]
  },
  {
   "cell_type": "code",
   "execution_count": 6,
   "metadata": {},
   "outputs": [
    {
     "data": {
      "text/plain": [
       "8.0"
      ]
     },
     "execution_count": 6,
     "metadata": {},
     "output_type": "execute_result"
    }
   ],
   "source": [
    "import math # math as an module\n",
    "\n",
    "math.sqrt(64)"
   ]
  },
  {
   "cell_type": "code",
   "execution_count": null,
   "metadata": {},
   "outputs": [
    {
     "name": "stdout",
     "output_type": "stream",
     "text": [
      "4.0\n"
     ]
    }
   ],
   "source": [
    "from math import sqrt,pi # from the module name math import sqrt,pi functions\n",
    "print(sqrt(16))\n",
    "print(sqrt(25))\n",
    "print(pi)"
   ]
  },
  {
   "cell_type": "code",
   "execution_count": 1,
   "metadata": {},
   "outputs": [
    {
     "data": {
      "text/plain": [
       "array([1, 2, 3, 4])"
      ]
     },
     "execution_count": 1,
     "metadata": {},
     "output_type": "execute_result"
    }
   ],
   "source": [
    "# While you import NumPy using import numpy, and numpy itself can be considered a top-level module within the NumPy package,\n",
    "import numpy as np # np is alias, alias is used so we do not use numpy package full name\n",
    "\n",
    "# my name is kapil , kapil as k, k is taking mlops class\n",
    "\n",
    "np.array( [1,2,3,4] )"
   ]
  },
  {
   "cell_type": "code",
   "execution_count": 14,
   "metadata": {},
   "outputs": [
    {
     "name": "stdout",
     "output_type": "stream",
     "text": [
      "4.0\n",
      "3.141592653589793\n"
     ]
    }
   ],
   "source": [
    "# all function available in math module\n",
    "from math import *\n",
    "print(sqrt(16))\n",
    "print(pi)"
   ]
  },
  {
   "cell_type": "code",
   "execution_count": null,
   "metadata": {},
   "outputs": [
    {
     "ename": "NameError",
     "evalue": "name 'substraction' is not defined",
     "output_type": "error",
     "traceback": [
      "\u001b[1;31m---------------------------------------------------------------------------\u001b[0m",
      "\u001b[1;31mNameError\u001b[0m                                 Traceback (most recent call last)",
      "Cell \u001b[1;32mIn[22], line 5\u001b[0m\n\u001b[0;32m      2\u001b[0m \u001b[38;5;28;01mfrom\u001b[39;00m \u001b[38;5;21;01mpackage\u001b[39;00m\u001b[38;5;21;01m.\u001b[39;00m\u001b[38;5;21;01mmaths1\u001b[39;00m \u001b[38;5;28;01mimport\u001b[39;00m addition1\n\u001b[0;32m      4\u001b[0m addition1(\u001b[38;5;241m2\u001b[39m,\u001b[38;5;241m10\u001b[39m)\n\u001b[1;32m----> 5\u001b[0m substraction(\u001b[38;5;241m10\u001b[39m,\u001b[38;5;241m6\u001b[39m)\n",
      "\u001b[1;31mNameError\u001b[0m: name 'substraction' is not defined"
     ]
    }
   ],
   "source": [
    "# design my own package\n",
    "from package.maths1 import addition1\n",
    "\n",
    "addition1(2,10)\n",
    "# substraction(10,6)"
   ]
  },
  {
   "cell_type": "code",
   "execution_count": 3,
   "metadata": {},
   "outputs": [
    {
     "data": {
      "text/plain": [
       "1"
      ]
     },
     "execution_count": 3,
     "metadata": {},
     "output_type": "execute_result"
    }
   ],
   "source": [
    "from package import maths1\n",
    "\n",
    "# maths1.addition1(2,3)\n",
    "maths1.substraction(5,4)\n"
   ]
  },
  {
   "cell_type": "markdown",
   "metadata": {},
   "source": [
    "#### Conclusion\n",
    "Importing modules and packages in Python allows you to organize your code, reuse functionalities, and keep your projects clean and manageable. By understanding how to import modules, specific functions, and use relative imports within packages, you can structure your Python applications more effectively."
   ]
  }
 ],
 "metadata": {
  "kernelspec": {
   "display_name": "base",
   "language": "python",
   "name": "python3"
  },
  "language_info": {
   "codemirror_mode": {
    "name": "ipython",
    "version": 3
   },
   "file_extension": ".py",
   "mimetype": "text/x-python",
   "name": "python",
   "nbconvert_exporter": "python",
   "pygments_lexer": "ipython3",
   "version": "3.12.7"
  }
 },
 "nbformat": 4,
 "nbformat_minor": 2
}
