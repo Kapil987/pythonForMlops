{
 "cells": [
  {
   "cell_type": "markdown",
   "metadata": {},
   "source": [
    "##### Standard Library Overview\n",
    "Python's Standard Library is a vast collection of modules and packages that come bundled with Python, providing a wide range of functionalities out of the box. Here's an overview of some of the most commonly used modules and packages in the Python Standard Library."
   ]
  },
  {
   "cell_type": "markdown",
   "metadata": {},
   "source": [
    "In Python, the `array` module provides a way to create arrays of a specific data type"
   ]
  },
  {
   "cell_type": "code",
   "execution_count": 1,
   "metadata": {},
   "outputs": [
    {
     "name": "stdout",
     "output_type": "stream",
     "text": [
      "array('i', [1, 2, 3, 4])\n"
     ]
    }
   ],
   "source": [
    "# Homogeneous Data Type: The most crucial characteristic is that all elements in a \n",
    "# Python array must be of the same data type\n",
    "import array\n",
    "arr=array.array('i',[1,2,3,4])\n",
    "print(arr)"
   ]
  },
  {
   "cell_type": "code",
   "execution_count": 2,
   "metadata": {},
   "outputs": [
    {
     "name": "stdout",
     "output_type": "stream",
     "text": [
      "4.0\n",
      "3.141592653589793\n"
     ]
    }
   ],
   "source": [
    "import math\n",
    "print(math.sqrt(16))\n",
    "print(math.pi)"
   ]
  },
  {
   "cell_type": "markdown",
   "metadata": {},
   "source": [
    "The `random` module in Python provides functions for generating pseudo-random numbers. It can be used for various tasks like simulations, games, and security (though for critical security, the secrets module is often preferred)."
   ]
  },
  {
   "cell_type": "code",
   "execution_count": null,
   "metadata": {},
   "outputs": [
    {
     "name": "stdout",
     "output_type": "stream",
     "text": [
      "2\n"
     ]
    }
   ],
   "source": [
    "## random \n",
    "import random\n",
    "\n",
    "print(random.randint(1,100))\n",
    "# print(random.choice(['apple','banana','cherry']))\n",
    "# print(random.choice([1,2,4,10,44]))"
   ]
  },
  {
   "cell_type": "markdown",
   "metadata": {},
   "source": [
    "The `os` module in Python provides a way to interact with the operating system. Think of it as your Python code's translator and helper when it needs to talk to the underlying system your computer is running on (like Windows, macOS, Linux)."
   ]
  },
  {
   "cell_type": "code",
   "execution_count": 10,
   "metadata": {},
   "outputs": [
    {
     "name": "stdout",
     "output_type": "stream",
     "text": [
      "c:\\Users\\kkapil\\Documents\\mlops-python\\5-Modules\n"
     ]
    }
   ],
   "source": [
    "### File And Directory Access\n",
    "\n",
    "import os\n",
    "print(os.getcwd())"
   ]
  },
  {
   "cell_type": "code",
   "execution_count": 11,
   "metadata": {},
   "outputs": [],
   "source": [
    "os.mkdir('test_dir')"
   ]
  },
  {
   "cell_type": "markdown",
   "metadata": {},
   "source": [
    "The `shutil` module in Python provides high-level file operations that are often more convenient than the lower-level operations in the os module."
   ]
  },
  {
   "cell_type": "code",
   "execution_count": 12,
   "metadata": {},
   "outputs": [
    {
     "data": {
      "text/plain": [
       "'destination.txt'"
      ]
     },
     "execution_count": 12,
     "metadata": {},
     "output_type": "execute_result"
    }
   ],
   "source": [
    "## High level operations on files and collection of files\n",
    "import shutil\n",
    "shutil.copyfile('source.txt','destination.txt')"
   ]
  },
  {
   "cell_type": "code",
   "execution_count": 14,
   "metadata": {},
   "outputs": [
    {
     "name": "stdout",
     "output_type": "stream",
     "text": [
      "{'name': 'Kapil', 'age': 25}\n",
      "<class 'dict'>\n"
     ]
    }
   ],
   "source": [
    "## Data Serialization\n",
    "import json\n",
    "\n",
    "data= {'name':'Kapil','age':25} # dictionary\n",
    "\n",
    "# print(type(data))\n",
    "\n",
    "json_str=json.dumps(data)\n",
    "\n",
    "# print(json_str)\n",
    "# print(type(json_str))\n",
    "\n",
    "parsed_data=json.loads(json_str)\n",
    "print(parsed_data)\n",
    "print(type(parsed_data))\n"
   ]
  },
  {
   "cell_type": "code",
   "execution_count": null,
   "metadata": {},
   "outputs": [
    {
     "name": "stdout",
     "output_type": "stream",
     "text": [
      "reader -> <_csv.reader object at 0x00000248D2017A00>\n",
      "['name', 'age', 'empid']\n",
      "['Kapil', '33', '123456']\n"
     ]
    }
   ],
   "source": [
    "## csv\n",
    "import csv\n",
    "\n",
    "with open('example.csv',mode='w',newline='') as file: \n",
    "    writer=csv.writer(file)\n",
    "\n",
    "    writer.writerow(['name','age','empid'])\n",
    "    writer.writerow(['Kapil',33,123456])\n",
    "\n",
    "with open('example.csv',mode='r') as file:\n",
    "    reader=csv.reader(file)\n",
    "    # print('reader ->',reader)\n",
    "    for row in reader:\n",
    "        print(row)"
   ]
  },
  {
   "cell_type": "markdown",
   "metadata": {},
   "source": [
    "This code uses the datetime module to:\n",
    "\n",
    "Get the current date and time using datetime.now().\n",
    "Subtract a one-day duration using timedelta(days=1) to find yesterday's date and time.\n",
    "Print both the current and yesterday's date and time.\n",
    "\n",
    "\n",
    "yesterday = now - timedelta(days=1):\n",
    "\n",
    "timedelta(days=1) creates a timedelta object representing a duration of exactly one day.\n",
    "We are then subtracting this timedelta object from the now datetime object.\n",
    "Python's datetime objects support arithmetic operations with timedelta objects. Subtracting a timedelta effectively moves the datetime object backward in time by the specified duration.\n",
    "In this case, subtracting one day from the current date and time gives us the date and time of yesterday.\n",
    "The result (the datetime object representing yesterday) is assigned to the variable yesterday."
   ]
  },
  {
   "cell_type": "code",
   "execution_count": 16,
   "metadata": {},
   "outputs": [
    {
     "name": "stdout",
     "output_type": "stream",
     "text": [
      "2025-04-21 20:45:55.135034\n"
     ]
    }
   ],
   "source": [
    "## datetime\n",
    "from datetime import datetime,timedelta\n",
    "\n",
    "now=datetime.now()\n",
    "print(now)\n",
    "\n",
    "# yesterday=now-timedelta(days=3)\n",
    "\n",
    "# print(yesterday)"
   ]
  },
  {
   "cell_type": "markdown",
   "metadata": {},
   "source": [
    "Unix timestamp or Epoch time.\n",
    "\n",
    "What is the Unix Timestamp?\n",
    "\n",
    "The Unix timestamp is a system for tracking a point in time. It represents the number of seconds that have elapsed since January 1, 1970, at 00:00:00 Coordinated Universal Time (UTC), excluding leap seconds"
   ]
  },
  {
   "cell_type": "code",
   "execution_count": 17,
   "metadata": {},
   "outputs": [
    {
     "name": "stdout",
     "output_type": "stream",
     "text": [
      "Unix timestamp or Epoch time 1745248581.5336874\n",
      "Unix timestamp or Epoch time After 1745248586.5341692\n",
      "human readable time --> Mon Apr 21 20:46:26 2025\n"
     ]
    }
   ],
   "source": [
    "## time\n",
    "import time\n",
    "print('Unix timestamp or Epoch time',time.time())\n",
    "time.sleep(5)\n",
    "print('Unix timestamp or Epoch time After',time.time())\n",
    "\n",
    "print('human readable time -->',time.ctime())"
   ]
  },
  {
   "cell_type": "markdown",
   "metadata": {},
   "source": [
    "**Short Explanation:**\n",
    "\n",
    "This code uses the `re` module (regular expressions) to find numbers in a text:\n",
    "\n",
    "1.  `pattern = r'\\d+'`: Defines a pattern to search for. `\\d+` means \"one or more digits (0-9)\". The `r` before the string indicates a raw string, which is useful for regular expressions.\n",
    "2.  `text = 'There are 123 apples 456'`: The string we are searching within.\n",
    "3.  `match = re.search(pattern, text)`: Attempts to find the first occurrence of the `pattern` within the `text`. If found, it returns a match object; otherwise, it returns `None`.\n",
    "4.  `print(match.group())`: If a match was found (i.e., `match` is not `None`), `match.group()` returns the actual substring that matched the pattern. In this case, it will print the first sequence of digits found, which is `123`."
   ]
  },
  {
   "cell_type": "code",
   "execution_count": 18,
   "metadata": {},
   "outputs": [
    {
     "name": "stdout",
     "output_type": "stream",
     "text": [
      "123\n"
     ]
    }
   ],
   "source": [
    "## Regular expresiion\n",
    "import re\n",
    "\n",
    "pattern=r'\\d+'\n",
    "text='There are 123 apples 456'\n",
    "match=re.search(pattern,text)\n",
    "print(match.group())"
   ]
  },
  {
   "cell_type": "markdown",
   "metadata": {},
   "source": [
    "#### Conclusion\n",
    "Python's Standard Library is extensive and provides tools for almost any task you can think of, from file handling to web services, from data serialization to concurrent execution. Familiarizing yourself with the modules and packages available in the Standard Library can significantly enhance your ability to write efficient and effective Python programs."
   ]
  }
 ],
 "metadata": {
  "kernelspec": {
   "display_name": "base",
   "language": "python",
   "name": "python3"
  },
  "language_info": {
   "codemirror_mode": {
    "name": "ipython",
    "version": 3
   },
   "file_extension": ".py",
   "mimetype": "text/x-python",
   "name": "python",
   "nbconvert_exporter": "python",
   "pygments_lexer": "ipython3",
   "version": "3.12.7"
  }
 },
 "nbformat": 4,
 "nbformat_minor": 2
}
