{
 "cells": [
  {
   "cell_type": "markdown",
   "metadata": {},
   "source": [
    "#### Functions Examples\n"
   ]
  },
  {
   "cell_type": "markdown",
   "metadata": {},
   "source": [
    "#### Example 1: Temperature Conversion"
   ]
  },
  {
   "cell_type": "code",
   "execution_count": 1,
   "metadata": {},
   "outputs": [
    {
     "name": "stdout",
     "output_type": "stream",
     "text": [
      "77.0\n",
      "25.0\n"
     ]
    }
   ],
   "source": [
    "def convert_temperature(temp,unit):\n",
    "    \"\"\"This function converts temperature between Celsius and Fahrenheit\"\"\"\n",
    "    if unit=='C':\n",
    "        return temp * 9/5 + 32  ## Celsius To Fahrenheit\n",
    "    elif unit==\"F\":\n",
    "        return (temp-32)*5/9 ## Fahrenheit to celsius\n",
    "    else:\n",
    "        return None\n",
    "\n",
    "print(convert_temperature(25,'C'))\n",
    "print(convert_temperature(77,'F'))"
   ]
  },
  {
   "cell_type": "markdown",
   "metadata": {},
   "source": [
    "##### Example 2: Password Strength Checker"
   ]
  },
  {
   "cell_type": "code",
   "execution_count": null,
   "metadata": {},
   "outputs": [
    {
     "name": "stdout",
     "output_type": "stream",
     "text": [
      "False\n",
      "True\n"
     ]
    }
   ],
   "source": [
    "# `any()` is an inbuilt (built-in) function in Python.\n",
    "def is_strong_password(password):\n",
    "    \"\"\"This function checks if the password is strong or not\"\"\"\n",
    "    if len(password)<8:\n",
    "        return False\n",
    "    if not any(char.isdigit() for char in password):\n",
    "        return False\n",
    "    if not any(char.islower() for char in password):\n",
    "        return False\n",
    "    if not any(char.isupper() for char in password):\n",
    "        return False\n",
    "    if not any(char in '!@#$%^&*()_+' for char in password):\n",
    "        return False\n",
    "    return True\n",
    "\n",
    "## calling the function\n",
    "print(is_strong_password(\"WeakPwdsfdgdf\"))\n",
    "print(is_strong_password(\"Str0ngPwd!\"))\n",
    "    \n",
    "    "
   ]
  },
  {
   "cell_type": "markdown",
   "metadata": {},
   "source": [
    "##### Example 3: Calculate the Total Cost Of Items In a Shopping Cart"
   ]
  },
  {
   "cell_type": "code",
   "execution_count": 7,
   "metadata": {},
   "outputs": [
    {
     "name": "stdout",
     "output_type": "stream",
     "text": [
      "item: {'name': 'Apple', 'price': 0.5, 'quantity': 4} --- item['price'] --> 0.5\n",
      "item: {'name': 'Banana', 'price': 0.3, 'quantity': 6} --- item['price'] --> 0.3\n",
      "item: {'name': 'Orange', 'price': 0.7, 'quantity': 3} --- item['price'] --> 0.7\n",
      "5.8999999999999995\n"
     ]
    }
   ],
   "source": [
    "def calculate_total_cost(cart):\n",
    "    total_cost=0\n",
    "    for item in cart:\n",
    "        print('item:',item,\"--- item['price'] -->\",item['price'])\n",
    "        total_cost+=item['price']* item['quantity']\n",
    "\n",
    "    return total_cost\n",
    "\n",
    "\n",
    "## Example cart data\n",
    "\n",
    "cart=[\n",
    "    {'name':'Apple','price':0.5,'quantity':4},\n",
    "    {'name':'Banana','price':0.3,'quantity':6},\n",
    "    {'name':'Orange','price':0.7,'quantity':3}\n",
    "\n",
    "]\n",
    "\n",
    "## calling the function\n",
    "total_cost=calculate_total_cost(cart)\n",
    "print(total_cost)"
   ]
  },
  {
   "cell_type": "markdown",
   "metadata": {},
   "source": [
    "##### Example 4: Check IF a String Is Palindrome\n",
    "- a-m-a-n-a-p-l-a-n-a-c-a-n-a-l-p-a-n-a-m-a\n",
    "- a-m-a-n-a-p-l-a-n-a-c-a-n-a-l-p-a-n-a-m-a"
   ]
  },
  {
   "cell_type": "code",
   "execution_count": 14,
   "metadata": {},
   "outputs": [
    {
     "name": "stdout",
     "output_type": "stream",
     "text": [
      "a man a plan a canal panama\n",
      "Palindrome\n",
      "amanaplanacanalpanama\n",
      "amanaplanacanalpanama\n"
     ]
    }
   ],
   "source": [
    "a = [\"A man a plan a canal Panama\"]\n",
    "# a = [\"hello\"]\n",
    "\n",
    "# print(a)\n",
    "print(a[0].lower())\n",
    "# print(a[0].lower().replace(\" \",\"\"))\n",
    "\n",
    "original_string = a[0].lower().replace(\" \", \"\") #remove spaces and lowercase\n",
    "\n",
    "reversed_string = original_string[::-1]\n",
    "\n",
    "if original_string == reversed_string:\n",
    "    print(\"Palindrome\")\n",
    "else:\n",
    "    print(\"Not a palindrome\")\n",
    "\n",
    "print(original_string)\n",
    "print(reversed_string)"
   ]
  },
  {
   "cell_type": "code",
   "execution_count": 16,
   "metadata": {},
   "outputs": [
    {
     "name": "stdout",
     "output_type": "stream",
     "text": [
      "s value is hello\n",
      "False\n"
     ]
    }
   ],
   "source": [
    "# same operation doing it with function\n",
    "def is_palindrome(s): # s = A man a plan a canal Panama\n",
    "    s=s.lower().replace(\" \",\"\")\n",
    "    print('s value is',s)\n",
    "    return s==s[::-1]\n",
    "\n",
    "# print(is_palindrome(\"A man a plan a canal Panama\"))\n",
    "print(is_palindrome(\"Hello\"))"
   ]
  },
  {
   "cell_type": "code",
   "execution_count": 20,
   "metadata": {},
   "outputs": [
    {
     "name": "stdout",
     "output_type": "stream",
     "text": [
      "lower + split --> ['hello', 'world', 'how', 'are', 'you', 'my', 'name', 'is', 'kapil', 'kapil', 'mlops']\n"
     ]
    }
   ],
   "source": [
    "# kapil as k\n",
    "# k is teaching mlop\n",
    "\n",
    "# Read text from file\n",
    "def read_and_print(file): # file = sample.txt\n",
    "  \"\"\"Reads and prints the content of a file.\"\"\"\n",
    "\n",
    "  with open(file, 'r') as f: # Open file in readonly mode\n",
    "    content = f.read()\n",
    "    return content\n",
    "\n",
    "# print(read_and_print(\"sample.txt\"))\n",
    "\n",
    "# print('lower -->',read_and_print(\"sample.txt\").lower()) # printing in lowercase\n",
    "print('lower + split -->',read_and_print(\"sample.txt\").lower().split()) # split returns as a list\n"
   ]
  },
  {
   "cell_type": "markdown",
   "metadata": {},
   "source": [
    " `counts.get(w, 0) + 1` step by step:\n",
    "\n",
    "1.  **`counts.get(w, 0)`:**\n",
    "    * `counts` is a dictionary where we're storing word counts.\n",
    "    * `w` is the current word we're processing.\n",
    "    * `counts.get(w, 0)` tries to retrieve the value associated with the key `w` from the `counts` dictionary.\n",
    "    * If the word `w` is already in the dictionary (meaning we've encountered it before), `counts.get(w, 0)` returns its current count.\n",
    "    * If the word `w` is *not* in the dictionary (meaning it's the first time we've seen it), `counts.get(w, 0)` returns `0`. This is the default value we specified.\n",
    "\n",
    "2.  **`+ 1`:**\n",
    "    * We then add `1` to the value returned by `counts.get(w, 0)`.\n",
    "    * If the word was already in the dictionary, we increment its count.\n",
    "    * If it was a new word, we're setting its initial count to `1`.\n",
    "\n",
    "3.  **`counts[w] = ...`:**\n",
    "    * Finally, we store the result back into the `counts` dictionary, associating it with the word `w`.\n",
    "\n",
    "**In essence, this line does the following:**\n",
    "\n",
    "* \"If the word is already in the dictionary, increase its count by 1. Otherwise, add the word to the dictionary with a count of 1.\"\n",
    "\n",
    "This is a concise way to count the occurrences of words in a text.\n"
   ]
  },
  {
   "cell_type": "code",
   "execution_count": 24,
   "metadata": {},
   "outputs": [
    {
     "name": "stdout",
     "output_type": "stream",
     "text": [
      "iter-> 1 ,w-> hello ,counts ->  {'hello': 1}\n",
      "iter-> 2 ,w-> world ,counts ->  {'hello': 1, 'world': 1}\n",
      "iter-> 3 ,w-> how ,counts ->  {'hello': 1, 'world': 1, 'how': 1}\n",
      "iter-> 4 ,w-> are ,counts ->  {'hello': 1, 'world': 1, 'how': 1, 'are': 1}\n",
      "iter-> 5 ,w-> you ,counts ->  {'hello': 1, 'world': 1, 'how': 1, 'are': 1, 'you': 1}\n",
      "iter-> 6 ,w-> my ,counts ->  {'hello': 1, 'world': 1, 'how': 1, 'are': 1, 'you': 1, 'my': 1}\n",
      "iter-> 7 ,w-> name ,counts ->  {'hello': 1, 'world': 1, 'how': 1, 'are': 1, 'you': 1, 'my': 1, 'name': 1}\n",
      "iter-> 8 ,w-> is ,counts ->  {'hello': 1, 'world': 1, 'how': 1, 'are': 1, 'you': 1, 'my': 1, 'name': 1, 'is': 1}\n",
      "iter-> 9 ,w-> kapil ,counts ->  {'hello': 1, 'world': 1, 'how': 1, 'are': 1, 'you': 1, 'my': 1, 'name': 1, 'is': 1, 'kapil': 1}\n",
      "iter-> 10 ,w-> kapil ,counts ->  {'hello': 1, 'world': 1, 'how': 1, 'are': 1, 'you': 1, 'my': 1, 'name': 1, 'is': 1, 'kapil': 2}\n",
      "iter-> 11 ,w-> kapil ,counts ->  {'hello': 1, 'world': 1, 'how': 1, 'are': 1, 'you': 1, 'my': 1, 'name': 1, 'is': 1, 'kapil': 3}\n",
      "iter-> 12 ,w-> mlops ,counts ->  {'hello': 1, 'world': 1, 'how': 1, 'are': 1, 'you': 1, 'my': 1, 'name': 1, 'is': 1, 'kapil': 3, 'mlops': 1}\n",
      "{'hello': 1, 'world': 1, 'how': 1, 'are': 1, 'you': 1, 'my': 1, 'name': 1, 'is': 1, 'kapil': 3, 'mlops': 1}\n"
     ]
    }
   ],
   "source": [
    "# simple approach but we are not closing the file which is not good practice\n",
    "def word_count(file):\n",
    "  \"\"\"Counts words in a file.\"\"\"\n",
    "  counts = {} # counts = {'hello': 1}\n",
    "  \n",
    "  myiter = 1\n",
    "  for w in open(file).read().lower().split():\n",
    "    counts[w] = counts.get(w, 0) + 1\n",
    "    # count[hello] = counts.get(w, 0) + 1\n",
    "\n",
    "    print('iter->',myiter,',w->',w,',counts -> ',counts) # printing each word\n",
    "\n",
    "    myiter = myiter+1\n",
    "  return counts\n",
    "\n",
    "print(word_count(\"sample.txt\"))\n",
    "\n",
    "# iter 1 counts[w] = counts.get(w, 0) + 1\n",
    "# iter 1 count [hello] = count.get(hello,0) + 1 "
   ]
  },
  {
   "cell_type": "markdown",
   "metadata": {},
   "source": [
    "##### Example 6: A Function To Read A File and count the frequency of each word"
   ]
  },
  {
   "cell_type": "code",
   "execution_count": 2,
   "metadata": {},
   "outputs": [
    {
     "name": "stdout",
     "output_type": "stream",
     "text": [
      "{'hello': 1, 'world': 1, 'how': 1, 'are': 1, 'you': 1, 'my': 1, 'name': 1, 'is': 1, 'kapil': 2}\n"
     ]
    }
   ],
   "source": [
    "# Try it yourself\n",
    "def count_word_frequency(file_path):\n",
    "    word_count={}\n",
    "    with open(file_path,'r') as file:\n",
    "        for line in file:\n",
    "            words=line.split()\n",
    "            for word in words:\n",
    "                word=word.lower().strip('.,!?;:\"\\'')\n",
    "                word_count[word]=word_count.get(word,0)+1\n",
    "    \n",
    "    return word_count\n",
    "\n",
    "filepath='sample.txt'\n",
    "word_frequency=count_word_frequency(filepath)\n",
    "print(word_frequency)\n"
   ]
  }
 ],
 "metadata": {
  "kernelspec": {
   "display_name": "base",
   "language": "python",
   "name": "python3"
  },
  "language_info": {
   "codemirror_mode": {
    "name": "ipython",
    "version": 3
   },
   "file_extension": ".py",
   "mimetype": "text/x-python",
   "name": "python",
   "nbconvert_exporter": "python",
   "pygments_lexer": "ipython3",
   "version": "3.12.7"
  }
 },
 "nbformat": 4,
 "nbformat_minor": 2
}
