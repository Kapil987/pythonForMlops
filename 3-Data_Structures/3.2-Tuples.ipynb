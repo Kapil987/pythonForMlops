{
 "cells": [
  {
   "cell_type": "markdown",
   "metadata": {},
   "source": [
    "#### Tuples\n",
    "\n",
    "#### Analogy\n",
    "Tuples are like egg cartons - once you put the eggs in, you can't change them, and each egg has its specific position (index).\n",
    "\n",
    "Agenda:\n",
    "1. Introduction to Tuples\n",
    "2. Creating Tuples\n",
    "3. Accessing Tuple Elements\n",
    "4. Tuple Operations\n",
    "5. Immutable Nature of Tuples\n",
    "6. Tuple Methods\n",
    "7. Packing and Unpacking Tuples\n",
    "8. Nested Tuples\n",
    "9. Practical Examples and Common Errors\n"
   ]
  },
  {
   "cell_type": "markdown",
   "metadata": {},
   "source": [
    "\n",
    "##### Introduction to Tuples\n",
    "Explanation:\n",
    "\n",
    "Tuples are ordered collections of items that are immutable.\n",
    "They are similar to lists, but their immutability makes them different.\n"
   ]
  },
  {
   "cell_type": "code",
   "execution_count": 1,
   "metadata": {},
   "outputs": [
    {
     "name": "stdout",
     "output_type": "stream",
     "text": [
      "()\n",
      "<class 'tuple'>\n"
     ]
    }
   ],
   "source": [
    "## creating a tuple\n",
    "empty_tuple=() # braces\n",
    "\n",
    "print(empty_tuple)\n",
    "print(type(empty_tuple))"
   ]
  },
  {
   "cell_type": "code",
   "execution_count": 2,
   "metadata": {},
   "outputs": [
    {
     "name": "stdout",
     "output_type": "stream",
     "text": [
      "<class 'list'>\n",
      "<class 'tuple'>\n"
     ]
    }
   ],
   "source": [
    "# empty_list = []\n",
    "lst=list()\n",
    "print(type(lst))\n",
    "tpl=tuple()\n",
    "print(type(tpl))"
   ]
  },
  {
   "cell_type": "code",
   "execution_count": 13,
   "metadata": {},
   "outputs": [
    {
     "data": {
      "text/plain": [
       "(1, 2, 3, 4, 5, 6)"
      ]
     },
     "execution_count": 13,
     "metadata": {},
     "output_type": "execute_result"
    }
   ],
   "source": [
    "numbers=tuple( [1,2,3,4,5,6] )\n",
    "numbers\n",
    "# print(type(numbers))"
   ]
  },
  {
   "cell_type": "code",
   "execution_count": 5,
   "metadata": {},
   "outputs": [
    {
     "data": {
      "text/plain": [
       "[1, 2, 3, 4, 5, 6]"
      ]
     },
     "execution_count": 5,
     "metadata": {},
     "output_type": "execute_result"
    }
   ],
   "source": [
    "list((1,2,3,4,5,6))"
   ]
  },
  {
   "cell_type": "code",
   "execution_count": null,
   "metadata": {},
   "outputs": [
    {
     "name": "stdout",
     "output_type": "stream",
     "text": [
      "(1, 'Hello World', 3.14, True)\n"
     ]
    }
   ],
   "source": [
    "mixed_tuple=(1,\"Hello World\",3.14, True)\n",
    "            #0  #1          #2    #3\n",
    "print(mixed_tuple)"
   ]
  },
  {
   "cell_type": "code",
   "execution_count": 21,
   "metadata": {},
   "outputs": [
    {
     "data": {
      "text/plain": [
       "(1, 2, 3, 4, 5, 6)"
      ]
     },
     "execution_count": 21,
     "metadata": {},
     "output_type": "execute_result"
    }
   ],
   "source": [
    "## Accessing Tuple Elements\n",
    "\n",
    "numbers"
   ]
  },
  {
   "cell_type": "code",
   "execution_count": 7,
   "metadata": {},
   "outputs": [
    {
     "name": "stdout",
     "output_type": "stream",
     "text": [
      "True\n"
     ]
    }
   ],
   "source": [
    "mixed_tuple=(1,\"Hello World\",3.14, True)\n",
    "            #0  #1          #2      #3\n",
    "\n",
    "print(mixed_tuple[3])\n",
    "\n",
    "# print(numbers[-1])"
   ]
  },
  {
   "cell_type": "code",
   "execution_count": 8,
   "metadata": {},
   "outputs": [
    {
     "data": {
      "text/plain": [
       "(1, 'Hello World', 3.14, True)"
      ]
     },
     "execution_count": 8,
     "metadata": {},
     "output_type": "execute_result"
    }
   ],
   "source": [
    "# mixed_tuple[start:stop-1:step]\n",
    "\n",
    "# mixed_tuple[0:4-1:step]\n",
    "\n",
    "mixed_tuple[0:4]"
   ]
  },
  {
   "cell_type": "code",
   "execution_count": 11,
   "metadata": {},
   "outputs": [
    {
     "data": {
      "text/plain": [
       "(True, 3.14, 'Hello World', 1)"
      ]
     },
     "execution_count": 11,
     "metadata": {},
     "output_type": "execute_result"
    }
   ],
   "source": [
    "# mixed_tuple[-1]   #1  True\n",
    "mixed_tuple[::-1] #2  reverse"
   ]
  },
  {
   "cell_type": "code",
   "execution_count": null,
   "metadata": {},
   "outputs": [
    {
     "name": "stdout",
     "output_type": "stream",
     "text": [
      "the sun rises in east\n"
     ]
    }
   ],
   "source": [
    "## concatination example in strings\n",
    "abc = \"the sun rises in \"\n",
    "bcd = \"east\"\n",
    "\n",
    "print(abc+bcd) # concatination"
   ]
  },
  {
   "cell_type": "code",
   "execution_count": 14,
   "metadata": {},
   "outputs": [
    {
     "name": "stdout",
     "output_type": "stream",
     "text": [
      "(1, 2, 3, 4, 5, 6, 1, 'Hello World', 3.14, True)\n"
     ]
    }
   ],
   "source": [
    "## Tuple Operations\n",
    "\n",
    "concatenation_tuple=numbers + mixed_tuple\n",
    "print(concatenation_tuple)"
   ]
  },
  {
   "cell_type": "code",
   "execution_count": 20,
   "metadata": {},
   "outputs": [
    {
     "name": "stdout",
     "output_type": "stream",
     "text": [
      "(1, 'Hello World', 3.14, True, 1, 'Hello World', 3.14, True, 1, 'Hello World', 3.14, True)\n"
     ]
    },
    {
     "data": {
      "text/plain": [
       "(1, 'Hello World', 3.14, True)"
      ]
     },
     "execution_count": 20,
     "metadata": {},
     "output_type": "execute_result"
    }
   ],
   "source": [
    "# print(4 * \"this is mlops class\\n\")\n",
    "\n",
    "print(mixed_tuple * 3)\n",
    "mixed_tuple"
   ]
  },
  {
   "cell_type": "code",
   "execution_count": 24,
   "metadata": {},
   "outputs": [
    {
     "data": {
      "text/plain": [
       "18"
      ]
     },
     "execution_count": 24,
     "metadata": {},
     "output_type": "execute_result"
    }
   ],
   "source": [
    "numbers *3\n",
    "\n",
    "len(numbers *3)"
   ]
  },
  {
   "cell_type": "code",
   "execution_count": 3,
   "metadata": {},
   "outputs": [
    {
     "name": "stdout",
     "output_type": "stream",
     "text": [
      "[1, 2, 3, 4, 5]\n",
      "[1, 'Kapil', 3, 4, 5]\n"
     ]
    }
   ],
   "source": [
    "## Immutable Nature Of Tuples\n",
    "## Tuples are immutable, meaning their elements cannot be changed once assigned.\n",
    "\n",
    "lst=[1,2,3,4,5]\n",
    "print(lst)\n",
    "\n",
    "lst[1]=\"Kapil\"\n",
    "print(lst)\n"
   ]
  },
  {
   "cell_type": "code",
   "execution_count": null,
   "metadata": {},
   "outputs": [
    {
     "ename": "TypeError",
     "evalue": "'tuple' object does not support item assignment",
     "output_type": "error",
     "traceback": [
      "\u001b[1;31m---------------------------------------------------------------------------\u001b[0m",
      "\u001b[1;31mTypeError\u001b[0m                                 Traceback (most recent call last)",
      "Cell \u001b[1;32mIn[25], line 3\u001b[0m\n\u001b[0;32m      1\u001b[0m numbers\u001b[38;5;241m=\u001b[39m\u001b[38;5;28mtuple\u001b[39m( [\u001b[38;5;241m1\u001b[39m,\u001b[38;5;241m2\u001b[39m,\u001b[38;5;241m3\u001b[39m,\u001b[38;5;241m4\u001b[39m,\u001b[38;5;241m5\u001b[39m,\u001b[38;5;241m6\u001b[39m] )\n\u001b[1;32m----> 3\u001b[0m numbers[\u001b[38;5;241m1\u001b[39m]\u001b[38;5;241m=\u001b[39m\u001b[38;5;124m\"\u001b[39m\u001b[38;5;124mKapil\u001b[39m\u001b[38;5;124m\"\u001b[39m\n",
      "\u001b[1;31mTypeError\u001b[0m: 'tuple' object does not support item assignment"
     ]
    }
   ],
   "source": [
    "numbers=tuple( [1,2,3,4,5,6] )\n",
    "\n",
    "numbers[1]=\"Kapil\" # tuple is immutable"
   ]
  },
  {
   "cell_type": "code",
   "execution_count": null,
   "metadata": {},
   "outputs": [],
   "source": [
    "numbers=tuple( [1,2,3,4,5,6,1,1] )\n",
    "            #"
   ]
  },
  {
   "cell_type": "code",
   "execution_count": 33,
   "metadata": {},
   "outputs": [
    {
     "name": "stdout",
     "output_type": "stream",
     "text": [
      "5\n"
     ]
    }
   ],
   "source": [
    "## Tuple Methods\n",
    "# print(numbers.count(1))\n",
    "print(numbers.index(6))"
   ]
  },
  {
   "cell_type": "code",
   "execution_count": 36,
   "metadata": {},
   "outputs": [
    {
     "name": "stdout",
     "output_type": "stream",
     "text": [
      "(1, 'Hello', 3.14)\n",
      "<class 'tuple'>\n"
     ]
    }
   ],
   "source": [
    "## Packing and Unpacking tuple\n",
    "## packing\n",
    "packed_tuple=1,\"Hello\",3.14\n",
    "\n",
    "print(packed_tuple)\n",
    "print(type(packed_tuple))"
   ]
  },
  {
   "cell_type": "code",
   "execution_count": 39,
   "metadata": {},
   "outputs": [
    {
     "name": "stdout",
     "output_type": "stream",
     "text": [
      "a: 20 b: 10\n"
     ]
    }
   ],
   "source": [
    "# swapping of numbers in python\n",
    "a = 10\n",
    "b = 20\n",
    "\n",
    "a,b = b, a\n",
    "# result a = 20 , b= 10\n",
    "\n",
    "print(\"a:\",a,\"b:\",b)"
   ]
  },
  {
   "cell_type": "code",
   "execution_count": 37,
   "metadata": {},
   "outputs": [
    {
     "name": "stdout",
     "output_type": "stream",
     "text": [
      "1\n",
      "Hello\n",
      "3.14\n"
     ]
    }
   ],
   "source": [
    "##unpacking a tuple\n",
    "a,b,c=packed_tuple\n",
    "\n",
    "print(a)\n",
    "print(b)\n",
    "print(c)"
   ]
  },
  {
   "cell_type": "markdown",
   "metadata": {},
   "source": [
    "# What's Happening\n",
    "\n",
    "- numbers = (1, 2, 3, 4, 5, 6):\n",
    "- This creates a tuple named numbers containing the integers 1 through 6. Think of a tuple as an ordered, unchangeable list.\n",
    "- first, *middle, last, last2 = numbers:\n",
    "\n",
    "# This is called \"unpacking\" with the * operator.\n",
    "- first gets the first element of numbers (which is 1).\n",
    "- last2 gets the last element of numbers (which is 6).\n",
    "- last gets the second to last element of numbers (which is 5).\n",
    "- *middle gathers all the remaining elements (2, 3, and 4) into a list called middle."
   ]
  },
  {
   "cell_type": "code",
   "execution_count": 40,
   "metadata": {},
   "outputs": [
    {
     "name": "stdout",
     "output_type": "stream",
     "text": [
      "1\n",
      "[2, 3, 4]\n",
      "5\n",
      "6\n"
     ]
    }
   ],
   "source": [
    "## Unpacking with *\n",
    "numbers=(1,2,3,4,5,6)\n",
    "\n",
    "first,*middle,last,last2 = numbers\n",
    "\n",
    "print(first)\n",
    "print(middle)\n",
    "print(last)\n",
    "print(last2)"
   ]
  },
  {
   "cell_type": "code",
   "execution_count": 1,
   "metadata": {},
   "outputs": [
    {
     "data": {
      "text/plain": [
       "[1, 2, 3]"
      ]
     },
     "execution_count": 1,
     "metadata": {},
     "output_type": "execute_result"
    }
   ],
   "source": [
    "## Nested Tuple\n",
    "## Nested List\n",
    "#[ 1, 2, 3, 4]\n",
    "  #0  #1\n",
    "\n",
    "\n",
    "        # 0            # 1        #2\n",
    "lst = [ [ 1, 2, 3, 4], [6,7,8,9], [1,\"Hello\",3.14,\"c\"] ]\n",
    "         # 0  1  2  3\n",
    "\n",
    "# lst[0]\n",
    "# lst[2]\n",
    "# lst[2][1]\n",
    "\n",
    "lst[0][0:3] # [start:stop-1:step]\n"
   ]
  },
  {
   "cell_type": "code",
   "execution_count": 58,
   "metadata": {},
   "outputs": [
    {
     "data": {
      "text/plain": [
       "('c', 3.14, 'Hello', 1)"
      ]
     },
     "execution_count": 58,
     "metadata": {},
     "output_type": "execute_result"
    }
   ],
   "source": [
    "                                    #-2  #-1\n",
    "lst=[ [1,2,3,4],[6,7,8,9],(1,\"Hello\",3.14,\"c\") ]\n",
    "      #0        #1        #2\n",
    "\n",
    "# lst[2][0:3]\n",
    "# lst[2][-1]   #1\n",
    "lst[2][::-1] #2"
   ]
  },
  {
   "cell_type": "code",
   "execution_count": 60,
   "metadata": {},
   "outputs": [
    {
     "name": "stdout",
     "output_type": "stream",
     "text": [
      "b\n"
     ]
    }
   ],
   "source": [
    "                \n",
    "nested_tuple = ( (1, 2, 3), (\"a\", \"b\", \"c\"), (True, False) )\n",
    "                # 0         # 1\n",
    "\n",
    "# (\"a\", \"b\", \"c\")\n",
    "  # 0   #1  # 2\n",
    "## access the elements inside a tuple\n",
    "print(nested_tuple[1][1])      # 1\n",
    "# print(nested_tuple[1][2])"
   ]
  },
  {
   "cell_type": "code",
   "execution_count": 80,
   "metadata": {},
   "outputs": [
    {
     "name": "stdout",
     "output_type": "stream",
     "text": [
      "(1, 2, 3)\n",
      "('a', 'b', 'c')\n",
      "(True, False)\n",
      "sub-tuple-> (True, False)\n",
      "\n",
      "item is: -> True\n",
      "\n",
      "item is: -> False\n"
     ]
    }
   ],
   "source": [
    "## iterating over nested tuples\n",
    "for sub_tuple in nested_tuple:\n",
    "  print(sub_tuple)\n",
    "# print(\"\\n\",sub_tuple[0])\n",
    "\n",
    "# iter1: sub_tuple = (1, 2, 3)\n",
    "# iter2: sub_tuple = (\"a\", \"b\", \"c\")\n",
    "# iter3: sub_tuple = (True, False)\n",
    "\n",
    "\n",
    "print(\"sub-tuple->\",sub_tuple)\n",
    "\n",
    "\n",
    "for item in sub_tuple:\n",
    "  print(\"\\nitem is: ->\",item)\n",
    "\n",
    "# iter1: item = True\n",
    "# iter2: item = False\n"
   ]
  },
  {
   "cell_type": "code",
   "execution_count": 83,
   "metadata": {},
   "outputs": [
    {
     "name": "stdout",
     "output_type": "stream",
     "text": [
      "1 2 3 hello\n",
      "a b c hello\n",
      "True False hello\n"
     ]
    }
   ],
   "source": [
    "## iterating over nested tuples\n",
    "\n",
    "nested_tuple = ( (1, 2, 3), (\"a\", \"b\", \"c\"), (True, False) )\n",
    "                # 0         # 1\n",
    "\n",
    "for sub_tuple in nested_tuple:\n",
    "    for item in sub_tuple:\n",
    "        print(item,end=\" \")\n",
    "    print(\"hello\")\n",
    "\n",
    "# outer loop -> iter1: sub_tuple = (1, 2, 3)\n",
    "# Iner loop ->  iter1: sub_tuple = (1, 2, 3) , item = 1\n",
    "# Iner loop ->  iter2: sub_tuple = (1, 2, 3) , item = 2\n",
    "# Iner loop ->  iter3: sub_tuple = (1, 2, 3) , item = 3\n",
    "\n",
    "# outer loop -> iter1: sub_tuple = (\"a\", \"b\", \"c\")\n",
    "# Iner loop ->  iter1: sub_tuple = (\"a\", \"b\", \"c\") , item = a\n",
    "# Iner loop ->  iter2: sub_tuple = (\"a\", \"b\", \"c\") , item = b\n",
    "# Iner loop ->  iter3: sub_tuple = (\"a\", \"b\", \"c\"), item = c\n",
    "\n",
    "# outer loop -> iter1: sub_tuple = (True, False)\n",
    "# Iner loop ->  iter1: sub_tuple = (True, False) , item = True\n",
    "# Iner loop ->  iter2: sub_tuple = (True, False) , item = False\n",
    "\n",
    "\n",
    "\n",
    "# iter2: sub_tuple = (\"a\", \"b\", \"c\")\n",
    "# iter3: sub_tuple = (True, False)"
   ]
  }
 ],
 "metadata": {
  "kernelspec": {
   "display_name": "base",
   "language": "python",
   "name": "python3"
  },
  "language_info": {
   "codemirror_mode": {
    "name": "ipython",
    "version": 3
   },
   "file_extension": ".py",
   "mimetype": "text/x-python",
   "name": "python",
   "nbconvert_exporter": "python",
   "pygments_lexer": "ipython3",
   "version": "3.12.7"
  }
 },
 "nbformat": 4,
 "nbformat_minor": 2
}
