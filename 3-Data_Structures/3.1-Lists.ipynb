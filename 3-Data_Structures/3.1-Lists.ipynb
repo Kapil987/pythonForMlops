{
 "cells": [
  {
   "cell_type": "markdown",
   "metadata": {},
   "source": [
    "#### Introduction To Lists\n",
    "- Lists are ordered, mutable collections of items.\n",
    "- They can contain items of different data types.\n",
    "\n",
    "#### Analogy\n",
    "Lists in Python are like a shopping list: you write different items (elements) on the same piece of paper (the list), and you can add new items, remove items, or check what item is in a particular position on your list."
   ]
  },
  {
   "cell_type": "markdown",
   "metadata": {},
   "source": [
    "##### Agenda:\n",
    "1. Introduction to Lists\n",
    "2. Creating Lists\n",
    "3. Accessing List Elements\n",
    "4. Modifying List Elements\n",
    "5. List Methods\n",
    "6. Slicing Lists\n",
    "7. Iterating Over Lists\n",
    "8. List Comprehensions\n",
    "9. Nested Lists\n",
    "10. Practical Examples and Common Errors"
   ]
  },
  {
   "cell_type": "code",
   "execution_count": null,
   "metadata": {},
   "outputs": [
    {
     "name": "stdout",
     "output_type": "stream",
     "text": [
      "<class 'list'>\n",
      "<class 'int'>\n"
     ]
    }
   ],
   "source": [
    "lst=[]\n",
    "demovar = 2\n",
    "print(type(lst))\n",
    "print(type(demovar))"
   ]
  },
  {
   "cell_type": "code",
   "execution_count": 2,
   "metadata": {},
   "outputs": [
    {
     "name": "stdout",
     "output_type": "stream",
     "text": [
      "['Kapil', 'Jack', 'Jacob', 1, 2, 3, 4, 5, 8.0, 9.3]\n"
     ]
    }
   ],
   "source": [
    "names=[\"Kapil\",\"Jack\",\"Jacob\",1,2,3,4,5, 8.0,9.3]\n",
    "\n",
    "print(names)"
   ]
  },
  {
   "cell_type": "code",
   "execution_count": 3,
   "metadata": {},
   "outputs": [
    {
     "name": "stdout",
     "output_type": "stream",
     "text": [
      "[1, 'Hello', 3.14, False]\n"
     ]
    }
   ],
   "source": [
    "mixed_list=[1,\"Hello\",3.14,False]\n",
    "print(mixed_list)"
   ]
  },
  {
   "cell_type": "code",
   "execution_count": 13,
   "metadata": {},
   "outputs": [],
   "source": [
    "### Accessing List Elements\n",
    "                                   #-3      #-2     # -1\n",
    "fruits=[\"apple\",\"banana\",\"cherry\",\"kiwi\",\"gauva\",\"grapes\"]\n",
    "          #0    #1        #2       #3     #4      #5"
   ]
  },
  {
   "cell_type": "code",
   "execution_count": null,
   "metadata": {},
   "outputs": [
    {
     "name": "stdout",
     "output_type": "stream",
     "text": [
      "grapes\n"
     ]
    }
   ],
   "source": [
    "# print(fruits[2])\n",
    "\n",
    "# print(fruits[2])\n",
    "# print(fruits[4])\n",
    "print(fruits[-1])\n",
    "\n",
    "# range(start,stop,step)"
   ]
  },
  {
   "cell_type": "markdown",
   "metadata": {},
   "source": [
    "# Slicing"
   ]
  },
  {
   "cell_type": "code",
   "execution_count": null,
   "metadata": {},
   "outputs": [
    {
     "name": "stdout",
     "output_type": "stream",
     "text": [
      "['banana', 'kiwi']\n"
     ]
    }
   ],
   "source": [
    "# list_var[start:stop-1:step]\n",
    "# \"apple\",\"banana\",\"cherry\",\"kiwi\",\"gauva\",\"grapes\"\n",
    "#   0       1       2       3       4       5       \n",
    "# print(fruits[2:])\n",
    "print(fruits[1:5:2])"
   ]
  },
  {
   "cell_type": "code",
   "execution_count": 35,
   "metadata": {},
   "outputs": [
    {
     "data": {
      "text/plain": [
       "['apple', 'banana', 'cherry', 'kiwi', 'gauva', 'grapes']"
      ]
     },
     "execution_count": 35,
     "metadata": {},
     "output_type": "execute_result"
    }
   ],
   "source": [
    "## Modifying The List elements\n",
    "fruits"
   ]
  },
  {
   "cell_type": "code",
   "execution_count": 16,
   "metadata": {},
   "outputs": [
    {
     "name": "stdout",
     "output_type": "stream",
     "text": [
      "['apple', 'banana', 'cherry', 'kiwi', 'gauva', 'pineapple']\n"
     ]
    }
   ],
   "source": [
    "fruits=[\"apple\",\"banana\",\"cherry\",\"kiwi\",\"gauva\",\"grapes\"]\n",
    "          #0    #1        #2       #3     #4      #5\n",
    "\n",
    "fruits[5]=\"pineapple\" # mutable\n",
    "print(fruits)\n",
    "# fruits"
   ]
  },
  {
   "cell_type": "code",
   "execution_count": 49,
   "metadata": {},
   "outputs": [],
   "source": [
    "fruits[2:]=\"watermelon\""
   ]
  },
  {
   "cell_type": "code",
   "execution_count": 50,
   "metadata": {},
   "outputs": [
    {
     "data": {
      "text/plain": [
       "['apple', 'banana', 'w', 'a', 't', 'e', 'r', 'm', 'e', 'l', 'o', 'n']"
      ]
     },
     "execution_count": 50,
     "metadata": {},
     "output_type": "execute_result"
    }
   ],
   "source": [
    "fruits"
   ]
  },
  {
   "cell_type": "code",
   "execution_count": 17,
   "metadata": {},
   "outputs": [],
   "source": [
    "fruits=[\"apple\",\"banana\",\"cherry\",\"kiwi\",\"gauva\"]\n",
    "          #0    #1        #2       #3     #4      #5"
   ]
  },
  {
   "cell_type": "code",
   "execution_count": 18,
   "metadata": {},
   "outputs": [
    {
     "name": "stdout",
     "output_type": "stream",
     "text": [
      "['apple', 'banana', 'cherry', 'kiwi', 'gauva', 'orange']\n"
     ]
    }
   ],
   "source": [
    "## List Methods\n",
    "\n",
    "fruits.append(\"orange\") ## Add an item to the end\n",
    "print(fruits)"
   ]
  },
  {
   "cell_type": "code",
   "execution_count": 1,
   "metadata": {},
   "outputs": [
    {
     "name": "stdout",
     "output_type": "stream",
     "text": [
      "['apple', 'banana', 'watermelon', 'cherry', 'kiwi', 'gauva']\n"
     ]
    }
   ],
   "source": [
    "fruits=[\"apple\",\"banana\",\"cherry\",\"kiwi\",\"gauva\"]\n",
    "          #0    #1        #2       #3     #4      #5\n",
    "fruits.insert(2,\"watermelon\")\n",
    "print(fruits)"
   ]
  },
  {
   "cell_type": "code",
   "execution_count": 60,
   "metadata": {},
   "outputs": [
    {
     "name": "stdout",
     "output_type": "stream",
     "text": [
      "None\n"
     ]
    }
   ],
   "source": [
    "fruits=[\"apple\",\"banana\",\"cherry\",\"kiwi\",\"gauva\",\"banana\"]\n",
    "          #0    #1        #2       #3     #4      #5\n",
    "print(fruits.remove(\"banana\")) ## Removing the first occurance of an item\n",
    "\n",
    "# print(fruits)"
   ]
  },
  {
   "cell_type": "code",
   "execution_count": 19,
   "metadata": {},
   "outputs": [
    {
     "name": "stdout",
     "output_type": "stream",
     "text": [
      "['apple', 'banana', 'cherry', 'kiwi', 'gauva']\n"
     ]
    }
   ],
   "source": [
    "## Remove and return the last element\n",
    "fruits=[\"apple\",\"banana\",\"cherry\",\"kiwi\",\"gauva\",\"banana\"]\n",
    "          #0    #1        #2       #3     #4      #5\n",
    "popped_fruits=fruits.pop()\n",
    "# print(popped_fruits)\n",
    "print(fruits)"
   ]
  },
  {
   "cell_type": "code",
   "execution_count": 22,
   "metadata": {},
   "outputs": [
    {
     "ename": "ValueError",
     "evalue": "'tui' is not in list",
     "output_type": "error",
     "traceback": [
      "\u001b[1;31m---------------------------------------------------------------------------\u001b[0m",
      "\u001b[1;31mValueError\u001b[0m                                Traceback (most recent call last)",
      "Cell \u001b[1;32mIn[22], line 1\u001b[0m\n\u001b[1;32m----> 1\u001b[0m index\u001b[38;5;241m=\u001b[39mfruits\u001b[38;5;241m.\u001b[39mindex(\u001b[38;5;124m\"\u001b[39m\u001b[38;5;124mtui\u001b[39m\u001b[38;5;124m\"\u001b[39m)\n\u001b[0;32m      2\u001b[0m \u001b[38;5;28mprint\u001b[39m(index)\n",
      "\u001b[1;31mValueError\u001b[0m: 'tui' is not in list"
     ]
    }
   ],
   "source": [
    "index=fruits.index(\"tui\")\n",
    "print(index)"
   ]
  },
  {
   "cell_type": "code",
   "execution_count": 24,
   "metadata": {},
   "outputs": [
    {
     "name": "stdout",
     "output_type": "stream",
     "text": [
      "2\n"
     ]
    }
   ],
   "source": [
    "## Remove and return the last element\n",
    "fruits=[\"apple\",\"banana\",\"cherry\",\"kiwi\",\"gauva\",\"banana\"]\n",
    "          #0    #1        #2       #3     #4      #5\n",
    "\n",
    "# fruits.insert(2,\"banana\")\n",
    "print(fruits.count(\"banana\"))"
   ]
  },
  {
   "cell_type": "code",
   "execution_count": 26,
   "metadata": {},
   "outputs": [
    {
     "data": {
      "text/plain": [
       "['zfruit', 'apple', 'banana', 'cherry', 'kiwi', 'gauva', 'banana']"
      ]
     },
     "execution_count": 26,
     "metadata": {},
     "output_type": "execute_result"
    }
   ],
   "source": [
    "## Remove and return the last element\n",
    "fruits=[\"zfruit\",\"apple\",\"banana\",\"cherry\",\"kiwi\",\"gauva\",\"banana\"]\n",
    "          #0    #1        #2       #3     #4      #5\n",
    "fruits"
   ]
  },
  {
   "cell_type": "code",
   "execution_count": 27,
   "metadata": {},
   "outputs": [],
   "source": [
    "fruits.sort() ## SSorts the list in ascending order"
   ]
  },
  {
   "cell_type": "code",
   "execution_count": 28,
   "metadata": {},
   "outputs": [
    {
     "data": {
      "text/plain": [
       "['apple', 'banana', 'banana', 'cherry', 'gauva', 'kiwi', 'zfruit']"
      ]
     },
     "execution_count": 28,
     "metadata": {},
     "output_type": "execute_result"
    }
   ],
   "source": [
    "fruits"
   ]
  },
  {
   "cell_type": "code",
   "execution_count": 30,
   "metadata": {},
   "outputs": [],
   "source": [
    "## Remove and return the last element\n",
    "fruits=[\"zfruit\",\"apple\",\"banana\",\"cherry\",\"kiwi\",\"gauva\",\"banana\"]\n",
    "\n",
    "fruits.reverse() ## REverse the list"
   ]
  },
  {
   "cell_type": "code",
   "execution_count": 31,
   "metadata": {},
   "outputs": [
    {
     "data": {
      "text/plain": [
       "['banana', 'gauva', 'kiwi', 'cherry', 'banana', 'apple', 'zfruit']"
      ]
     },
     "execution_count": 31,
     "metadata": {},
     "output_type": "execute_result"
    }
   ],
   "source": [
    "fruits"
   ]
  },
  {
   "cell_type": "code",
   "execution_count": 32,
   "metadata": {},
   "outputs": [
    {
     "name": "stdout",
     "output_type": "stream",
     "text": [
      "[]\n"
     ]
    }
   ],
   "source": [
    "fruits.clear() ## Remove all items from the list\n",
    "\n",
    "print(fruits)"
   ]
  },
  {
   "cell_type": "code",
   "execution_count": 38,
   "metadata": {},
   "outputs": [
    {
     "name": "stdout",
     "output_type": "stream",
     "text": [
      "[3, 1]\n"
     ]
    }
   ],
   "source": [
    "## Slicing List, numbers[start : stop-1 : step]\n",
    "# if step is +ve number normal step count (skipping the numbers)\n",
    "# if step is -1 then it will reverse the list\n",
    "                #-3  #-2    #-1\n",
    "numbers = [ 0  , 1,   2,    3   ] # index range is: 0 to 3 , lenght of numbers list is 4\n",
    "           #0    #1  #2     #3\n",
    "\n",
    "# print(numbers[1:3])\n",
    "# print(numbers[:55]) # numbers[start : stop-1 : step]\n",
    "# print(len(numbers))\n",
    "# print(numbers[5:])\n",
    "# print(numbers[::2])\n",
    "print(numbers[::-2]) \n",
    "# print(numbers[-1])"
   ]
  },
  {
   "cell_type": "code",
   "execution_count": 120,
   "metadata": {},
   "outputs": [
    {
     "data": {
      "text/plain": [
       "[0, 3]"
      ]
     },
     "execution_count": 120,
     "metadata": {},
     "output_type": "execute_result"
    }
   ],
   "source": [
    "numbers[::3]"
   ]
  },
  {
   "cell_type": "code",
   "execution_count": null,
   "metadata": {},
   "outputs": [
    {
     "data": {
      "text/plain": [
       "[3, 2, 1, 0]"
      ]
     },
     "execution_count": 39,
     "metadata": {},
     "output_type": "execute_result"
    }
   ],
   "source": [
    "\n",
    "numbers[::-1]"
   ]
  },
  {
   "cell_type": "code",
   "execution_count": 129,
   "metadata": {},
   "outputs": [
    {
     "name": "stdout",
     "output_type": "stream",
     "text": [
      "1Current Value of the Indian Stock Market\n",
      "As of April 5, 2025, the Indian stock market has experienced significant fluctuations:\n"
     ]
    }
   ],
   "source": [
    "mylist = [\"1Current Value of the Indian Stock Market\",\"As of April 5, 2025, the Indian stock market has experienced significant fluctuations:\"]\n",
    "for i in mylist:\n",
    "  print(i)"
   ]
  },
  {
   "cell_type": "code",
   "execution_count": null,
   "metadata": {},
   "outputs": [
    {
     "name": "stdout",
     "output_type": "stream",
     "text": [
      "0\n",
      "1\n",
      "2\n",
      "3\n"
     ]
    }
   ],
   "source": [
    "### Iterating Over List\n",
    "numbers = [ 0  , 1,   2,    3   ] # list as iterables\n",
    "            # 0  1\n",
    "for number in numbers: # 1st iteration\n",
    "    print(number)"
   ]
  },
  {
   "cell_type": "code",
   "execution_count": 2,
   "metadata": {},
   "outputs": [
    {
     "name": "stdout",
     "output_type": "stream",
     "text": [
      "7\n"
     ]
    }
   ],
   "source": [
    "fruits=[\"zfruit\",\"apple\",\"banana\",\"cherry\",\"kiwi\",\"gauva\",\"banana\"]\n",
    "\n",
    "print(len(fruits))\n",
    "\n",
    "# if len(fruits) > 7:\n",
    "#   print(\"please subscript to a pro model\")\n",
    "\n",
    "# for index,f in enumerate(fruits):\n",
    "#     print(index,f)"
   ]
  },
  {
   "cell_type": "code",
   "execution_count": null,
   "metadata": {},
   "outputs": [
    {
     "name": "stdout",
     "output_type": "stream",
     "text": [
      "0 zfruit\n",
      "1 apple\n",
      "2 banana\n",
      "3 cherry\n",
      "4 kiwi\n",
      "5 gauva\n",
      "6 banana\n"
     ]
    }
   ],
   "source": [
    "## Iterating with index as well as the value from list\n",
    "fruits=[\"zfruit\",\"apple\",\"banana\",\"cherry\",\"kiwi\",\"gauva\",\"banana\"]\n",
    "\n",
    "for index,f in enumerate(fruits):\n",
    "    print(index,f)"
   ]
  },
  {
   "cell_type": "code",
   "execution_count": 144,
   "metadata": {},
   "outputs": [
    {
     "name": "stdout",
     "output_type": "stream",
     "text": [
      "[0, 1, 4, 9, 16, 25, 36, 49, 64, 81]\n"
     ]
    }
   ],
   "source": [
    "## List comprehension, 2^2 = 2*2 = 4, 2^3 = 2*2*2= 8, 3^2 = 3*3= 9\n",
    "# iteration 1 , range = 0 , x = 0\n",
    "# iteration 2 , range = 1 , x = 1\n",
    "# iteration 3 , range = 2 , x = 2\n",
    "# iteration 4 , range = 3 , x = 3\n",
    "# iteration 5 , range = 4 , x = 4\n",
    "\n",
    "lst=[]\n",
    "for x in range(10):\n",
    "    # print(lst) \n",
    "    lst.append(x**2) # 4^2 = 4 * 4 = 16\n",
    "\n",
    "print(lst)\n"
   ]
  },
  {
   "cell_type": "code",
   "execution_count": 37,
   "metadata": {},
   "outputs": [
    {
     "data": {
      "text/plain": [
       "[0, 1, 4, 9, 16, 25, 36, 49, 64, 81, 100, 121]"
      ]
     },
     "execution_count": 37,
     "metadata": {},
     "output_type": "execute_result"
    }
   ],
   "source": [
    "[ x**2 for x in range(12) ]"
   ]
  },
  {
   "cell_type": "markdown",
   "metadata": {},
   "source": [
    "##### List Comprehension\n",
    "\n",
    "Basics Syantax            [expression for item in iterable]\n",
    "\n",
    "with conditional logic    [expression for item in iterable if condition]\n",
    "\n",
    "Nested List Comprehension [expression for item1 in iterable1 for item2 in iterable2]\n",
    "\n",
    "\n"
   ]
  },
  {
   "cell_type": "code",
   "execution_count": 148,
   "metadata": {},
   "outputs": [
    {
     "name": "stdout",
     "output_type": "stream",
     "text": [
      "[0, 1, 4, 9, 16, 25, 36, 49, 64, 81]\n"
     ]
    }
   ],
   "source": [
    "### Basic List Comphrension\n",
    "\n",
    "sqaure=[num**2 for num in range(10)]\n",
    "print(sqaure)"
   ]
  },
  {
   "cell_type": "code",
   "execution_count": 149,
   "metadata": {},
   "outputs": [
    {
     "name": "stdout",
     "output_type": "stream",
     "text": [
      "[0, 2, 4, 6, 8]\n"
     ]
    }
   ],
   "source": [
    "### List Comprehension with Condition\n",
    "# iteration 1 , range = 0 , i = 0 \n",
    "# iteration 2 , range = 1 , i = 1\n",
    "# iteration 3 , range = 2 , i = 2\n",
    "# iteration 4 , range = 3 , i = 3\n",
    "# iteration 5 , range = 4 , i = 4\n",
    "\n",
    "lst=[]\n",
    "for i in range(10):\n",
    "    if i%2==0:              # i = 2 true\n",
    "        lst.append(i)       # i = 2\n",
    "\n",
    "print(lst)\n",
    "        "
   ]
  },
  {
   "cell_type": "code",
   "execution_count": 151,
   "metadata": {},
   "outputs": [
    {
     "name": "stdout",
     "output_type": "stream",
     "text": [
      "[0, 2, 4, 6, 8]\n"
     ]
    }
   ],
   "source": [
    "even_numbers= [ num for num in range(10) if num%2==0 ]\n",
    "\n",
    "print(even_numbers)"
   ]
  },
  {
   "cell_type": "code",
   "execution_count": 162,
   "metadata": {},
   "outputs": [
    {
     "name": "stdout",
     "output_type": "stream",
     "text": [
      "5 5 6 4 13 "
     ]
    }
   ],
   "source": [
    "## List Comprehension with function calls , [5, 5, 6, 4, 13]\n",
    "words = [\"hello\", \"world\", \"python\", \"list\", \"comprehension\"]\n",
    "\n",
    "# print(len(\"python\"))\n",
    "\n",
    "for word in words:\n",
    "  # print(word,len(word))\n",
    "  print(len(word),end=' ')\n",
    "\n",
    "# lengths = [ len(word) for word in words  ]\n",
    "# print(lengths)  # Output: [5, 5, 6, 4, 13]\n",
    "\n"
   ]
  },
  {
   "cell_type": "markdown",
   "metadata": {},
   "source": [
    "#### Conclusion\n",
    "List comprehensions are a powerful and concise way to create lists in Python. They are syntactically compact and can replace more verbose looping constructs. Understanding the syntax of list comprehensions will help you write cleaner and more efficient Python code."
   ]
  }
 ],
 "metadata": {
  "kernelspec": {
   "display_name": "base",
   "language": "python",
   "name": "python3"
  },
  "language_info": {
   "codemirror_mode": {
    "name": "ipython",
    "version": 3
   },
   "file_extension": ".py",
   "mimetype": "text/x-python",
   "name": "python",
   "nbconvert_exporter": "python",
   "pygments_lexer": "ipython3",
   "version": "3.12.7"
  }
 },
 "nbformat": 4,
 "nbformat_minor": 2
}
