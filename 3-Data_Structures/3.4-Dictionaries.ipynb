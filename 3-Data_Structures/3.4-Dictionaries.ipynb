{
 "cells": [
  {
   "cell_type": "markdown",
   "metadata": {},
   "source": [
    "#### Dictionaries\n",
    "#### Analogy\n",
    "A dictionary in Python is like a real-world phonebook: you look up names (keys) to find phone numbers (values)\n",
    "\n",
    "Agenda:\n",
    "1. Introduction to Dictionaries\n",
    "2. Creating Dictionaries\n",
    "3. Accessing Dictionary Elements\n",
    "4. Modifying Dictionary Elements\n",
    "5. Dictionary Methods\n",
    "6. Iterating Over Dictionaries\n",
    "7. Nested Dictionaries\n",
    "8. Dictionary Comprehensions\n",
    "9. Practical Examples and Common Errors"
   ]
  },
  {
   "cell_type": "markdown",
   "metadata": {},
   "source": [
    "##### Introduction to Dictionaries\n",
    "\n",
    "Dictionaries are unordered collections of items. They store data in key-value pairs.\n",
    "Keys must be unique and immutable (e.g., strings, numbers, or tuples), while values can be of any type."
   ]
  },
  {
   "cell_type": "code",
   "execution_count": 1,
   "metadata": {},
   "outputs": [
    {
     "name": "stdout",
     "output_type": "stream",
     "text": [
      "<class 'dict'>\n"
     ]
    }
   ],
   "source": [
    "## Creating Dictionaries\n",
    "empty_dict={}\n",
    "print(type(empty_dict))"
   ]
  },
  {
   "cell_type": "code",
   "execution_count": 2,
   "metadata": {},
   "outputs": [
    {
     "data": {
      "text/plain": [
       "{}"
      ]
     },
     "execution_count": 2,
     "metadata": {},
     "output_type": "execute_result"
    }
   ],
   "source": [
    "empty_dict=dict()\n",
    "empty_dict"
   ]
  },
  {
   "cell_type": "code",
   "execution_count": null,
   "metadata": {},
   "outputs": [
    {
     "name": "stdout",
     "output_type": "stream",
     "text": [
      "{'name': 'Kapil', 'age': 32, 'grade': 24}\n",
      "<class 'dict'>\n"
     ]
    }
   ],
   "source": [
    "student={\"name\":\"Kapil\", \"age\":32, \"grade\":24 }\n",
    "\n",
    "print(student)\n",
    "print(type(student))"
   ]
  },
  {
   "cell_type": "code",
   "execution_count": 5,
   "metadata": {},
   "outputs": [
    {
     "name": "stdout",
     "output_type": "stream",
     "text": [
      "{'name': 24, 'age': 32}\n"
     ]
    }
   ],
   "source": [
    "# Single key is always used\n",
    "student={\"name\":\"Kapil\",\"age\":32,\"name\":24}\n",
    "print(student)"
   ]
  },
  {
   "cell_type": "code",
   "execution_count": 2,
   "metadata": {},
   "outputs": [
    {
     "name": "stdout",
     "output_type": "stream",
     "text": [
      "{'name': 'Kapil', 'age': 32, 'grade': 'A'}\n"
     ]
    }
   ],
   "source": [
    "## accessing Dictionary Elements\n",
    "student={\"name\":\"Kapil\",\"age\":32,\"grade\":'A'}\n",
    "print(student)"
   ]
  },
  {
   "cell_type": "code",
   "execution_count": 5,
   "metadata": {},
   "outputs": [
    {
     "name": "stdout",
     "output_type": "stream",
     "text": [
      "A\n",
      "32\n",
      "Kapil\n",
      "Not Available123\n"
     ]
    }
   ],
   "source": [
    "## Accessing Dictionary elements\n",
    "print(student['grade']) # A\n",
    "print(student['age'])   #  32\n",
    "print(student['name'])   # Kapil\n",
    "\n",
    "## Accessing using get() method\n",
    "# print(student.get('grade'))\n",
    "# print(student.get('last_name'))\n",
    "print(student.get('last_name',\"Not Available123\"))\n"
   ]
  },
  {
   "cell_type": "code",
   "execution_count": 17,
   "metadata": {},
   "outputs": [
    {
     "name": "stdout",
     "output_type": "stream",
     "text": [
      "{'name': 'Kapil', 'age': 32, 'grade': 'A'}\n"
     ]
    }
   ],
   "source": [
    "## Modifying Dicitonary Elements\n",
    "## Dictionary are mutable,so you can add, update or delete elements\n",
    "print(student)"
   ]
  },
  {
   "cell_type": "code",
   "execution_count": 6,
   "metadata": {},
   "outputs": [
    {
     "name": "stdout",
     "output_type": "stream",
     "text": [
      "{'name': 'Kapil', 'age': 33, 'grade': 'A'}\n",
      "{'name': 'Kapil', 'age': 33, 'grade': 'A', 'address': 'India'}\n",
      "{'name': 'Kapil', 'age': 33, 'grade': 'A', 'address': 'USA'}\n"
     ]
    }
   ],
   "source": [
    "student={\"name\":\"Kapil\",\"age\":32,\"grade\":'A'}\n",
    "\n",
    "student[\"age\"]=33  ##update value for the key\n",
    "print(student)\n",
    "\n",
    "student[\"address\"]=\"India\" ## added a new key and value\n",
    "print(student)\n",
    "\n",
    "student[\"address\"]=\"USA\" ## added a new key and value\n",
    "print(student)"
   ]
  },
  {
   "cell_type": "code",
   "execution_count": 21,
   "metadata": {},
   "outputs": [
    {
     "name": "stdout",
     "output_type": "stream",
     "text": [
      "{'name': 'Kapil', 'age': 33, 'address': 'USA'}\n"
     ]
    }
   ],
   "source": [
    "del student['grade'] ## delete key and value pair\n",
    "\n",
    "print(student)"
   ]
  },
  {
   "cell_type": "code",
   "execution_count": 9,
   "metadata": {},
   "outputs": [
    {
     "name": "stdout",
     "output_type": "stream",
     "text": [
      "dict_items([('name', 'Kapil'), ('age', 32), ('grade', 'A')])\n"
     ]
    }
   ],
   "source": [
    "## Dictionary methods\n",
    "student={\"name\":\"Kapil\",\"age\":32,\"grade\":'A'}\n",
    "\n",
    "# keys=student.keys() ##get all the keys\n",
    "# print(keys)\n",
    "\n",
    "# values=student.values() ##get all values\n",
    "# print(values)\n",
    "\n",
    "items=student.items() ##get all key value pairs\n",
    "print(items)"
   ]
  },
  {
   "cell_type": "code",
   "execution_count": 12,
   "metadata": {},
   "outputs": [
    {
     "name": "stdout",
     "output_type": "stream",
     "text": [
      "{'name': 'vikas', 'age': 32, 'grade': 'A'}\n",
      "{'name': 'vikas', 'age': 32, 'grade': 'A'}\n"
     ]
    }
   ],
   "source": [
    "## shallow copy\n",
    "student={\"name\":\"Kapil\",\"age\":32,\"grade\":'A'}\n",
    "\n",
    "student_copy=student\n",
    "\n",
    "# print(student)\n",
    "\n",
    "student_copy['name'] = 'vikas'\n",
    "print(student_copy)\n",
    "print(student)\n",
    "\n"
   ]
  },
  {
   "cell_type": "code",
   "execution_count": 13,
   "metadata": {},
   "outputs": [
    {
     "name": "stdout",
     "output_type": "stream",
     "text": [
      "{'name': 'Kapil2', 'age': 32, 'grade': 'A'}\n",
      "{'name': 'Kapil2', 'age': 32, 'grade': 'A'}\n"
     ]
    }
   ],
   "source": [
    "student[\"name\"]=\"Kapil2\"\n",
    "print(student)\n",
    "print(student_copy)\n"
   ]
  },
  {
   "cell_type": "code",
   "execution_count": 14,
   "metadata": {},
   "outputs": [
    {
     "name": "stdout",
     "output_type": "stream",
     "text": [
      "{'name': 'Kapil', 'age': 32, 'grade': 'A'}\n",
      "{'name': 'Kapil', 'age': 32, 'grade': 'A'}\n"
     ]
    }
   ],
   "source": [
    "student={\"name\":\"Kapil\",\"age\":32,\"grade\":'A'}\n",
    "\n",
    "student_copy1=student.copy() ## shallow copy\n",
    "print(student_copy1)\n",
    "print(student)"
   ]
  },
  {
   "cell_type": "code",
   "execution_count": 16,
   "metadata": {},
   "outputs": [
    {
     "name": "stdout",
     "output_type": "stream",
     "text": [
      "student_copy1:  {'name': 'Kapil', 'age': 32, 'grade': 'A'}\n",
      "student:  ----- {'name': 'shyam', 'age': 32, 'grade': 'A'}\n"
     ]
    }
   ],
   "source": [
    "student[\"name\"]=\"shyam\"\n",
    "print(\"student_copy1: \",student_copy1)\n",
    "print(\"student:  -----\",student)"
   ]
  },
  {
   "cell_type": "code",
   "execution_count": null,
   "metadata": {},
   "outputs": [
    {
     "name": "stdout",
     "output_type": "stream",
     "text": [
      "Kapil\n",
      "32\n",
      "A\n"
     ]
    }
   ],
   "source": [
    "### Iterating Over Dictionaries\n",
    "## You can use loops to iterate over dictionatries, keys,values,or items\n",
    "\n",
    "student={\"name\":\"Kapil\",\"age\":32,\"grade\":'A'}\n",
    "\n",
    "## Iterating over keys\n",
    "for keys in student.keys():\n",
    "    print(keys)\n",
    "    # print(student[keys])\n",
    "\n",
    "# iter 1: student.keys() = name\n",
    "# iter 2: student.keys() = age\n",
    "# iter 2: student.keys() = grade"
   ]
  },
  {
   "cell_type": "code",
   "execution_count": 19,
   "metadata": {},
   "outputs": [
    {
     "name": "stdout",
     "output_type": "stream",
     "text": [
      "Kapil\n",
      "32\n",
      "A\n"
     ]
    }
   ],
   "source": [
    "## Iterate over values\n",
    "for value in student.values():\n",
    "    print(value)\n",
    "\n",
    "# iter 1: student.keys() = kapil\n",
    "# iter 2: student.keys() = 32\n",
    "# iter 2: student.keys() = A"
   ]
  },
  {
   "cell_type": "code",
   "execution_count": 22,
   "metadata": {},
   "outputs": [
    {
     "name": "stdout",
     "output_type": "stream",
     "text": [
      "key -> name,: value from dict-> Kapil\n",
      "key -> age,: value from dict-> 32\n",
      "key -> grade,: value from dict-> A\n"
     ]
    }
   ],
   "source": [
    "## Iterate over key value pairs\n",
    "student={\"name\":\"Kapil\",\"age\":32,\"grade\":'A'}\n",
    "\n",
    "# print(student.items())\n",
    "\n",
    "for key,value in student.items():\n",
    "    print(f\"key -> {key},: value from dict-> {value}\")"
   ]
  },
  {
   "cell_type": "code",
   "execution_count": 44,
   "metadata": {},
   "outputs": [
    {
     "name": "stdout",
     "output_type": "stream",
     "text": [
      "{'student1': {'name': 'Kapil', 'age': 32}, 'student2': {'name': 'Peter', 'age': 35}}\n"
     ]
    }
   ],
   "source": [
    "## Nested Dictionaries\n",
    "students={ \n",
    "  \"student1\" : { \"name\":\"Kapil\", \"age\":32 }, \n",
    "  \"student2\" : { \"name\":\"Peter\", \"age\":35 } \n",
    "  }\n",
    "print(students)"
   ]
  },
  {
   "cell_type": "code",
   "execution_count": 48,
   "metadata": {},
   "outputs": [
    {
     "name": "stdout",
     "output_type": "stream",
     "text": [
      "35\n"
     ]
    }
   ],
   "source": [
    "## Access nested dictionaries elements\n",
    "\n",
    "# print(students[\"student2\"][\"name\"])\n",
    "\n",
    "# print(students[\"student1\"][\"age\"])\n",
    "\n",
    "print(students[\"student2\"][\"age\"])"
   ]
  },
  {
   "cell_type": "code",
   "execution_count": 49,
   "metadata": {},
   "outputs": [
    {
     "data": {
      "text/plain": [
       "dict_items([('student1', {'name': 'Kapil', 'age': 32}), ('student2', {'name': 'Peter', 'age': 35})])"
      ]
     },
     "execution_count": 49,
     "metadata": {},
     "output_type": "execute_result"
    }
   ],
   "source": [
    "students.items()"
   ]
  },
  {
   "cell_type": "code",
   "execution_count": null,
   "metadata": {},
   "outputs": [
    {
     "name": "stdout",
     "output_type": "stream",
     "text": [
      "student_name -> student1 , student_info -> {'name': 'Kapil', 'age': 32}\n",
      "key -> name: value->Kapil\n",
      "key -> age: value->32\n",
      "student_name -> student2 , student_info -> {'name': 'Peter', 'age': 35}\n",
      "key -> name: value->Peter\n",
      "key -> age: value->35\n"
     ]
    }
   ],
   "source": [
    "students={ \n",
    "  \"student1\" : { \"name\":\"Kapil\", \"age\":32 }, \n",
    "  \"student2\" : { \"name\":\"Peter\", \"age\":35 } \n",
    "  }\n",
    "\n",
    "# print(students.items())\n",
    "\n",
    "## Iterating over nested dictionaries\n",
    "for student_name,student_info in students.items():\n",
    "    print(f\"student_name -> {student_name} , student_info -> {student_info}\")\n",
    "    for key,value in student_info.items():\n",
    "        print(f\"key -> {key}: value->{value}\")\n",
    "\n",
    "# outer for loop iter 1: student_name = student1, student_info = {'name': 'Kapil', 'age': 32}\n",
    "# inner for loop iter 1: key = name , value = Kapil \n",
    "# inner for loop iter 2: key = age , value = 32\n",
    "\n",
    "# outer for loop iter 2: student_name = student2, student_info = {'name': 'Peter', 'age': 35}\n",
    "# inner for loop iter 1: key = name , value = peter \n",
    "# inner for loop iter 2: key = age , value = 35\n"
   ]
  },
  {
   "cell_type": "code",
   "execution_count": null,
   "metadata": {},
   "outputs": [
    {
     "name": "stdout",
     "output_type": "stream",
     "text": [
      "{0: 0, 1: 1, 2: 4, 3: 9, 4: 16}\n"
     ]
    }
   ],
   "source": [
    "# list comprehension\n",
    "sqaure=[num**2 for num in range(10)]\n",
    "# print(sqaure)\n",
    "\n",
    "## Dictionary Comphrehension\n",
    "squares = {x:x**2 for x in range(5)}\n",
    "\n",
    "# iter 1, x=0 squares { 0: 0 for x in range(5) }\n",
    "# iter 2, x=1 squares { 1: 1 for x in range(5) }\n",
    "# iter 3, x=2 squares { 2: 4 for x in range(5) }\n",
    "# iter 4, x=3 squares { 3: 9 for x in range(5) }\n",
    "# iter 5, x=4 squares { 4: 16 for x in range(5) }\n",
    "\n",
    "\n",
    "print(squares)"
   ]
  },
  {
   "cell_type": "code",
   "execution_count": 36,
   "metadata": {},
   "outputs": [
    {
     "name": "stdout",
     "output_type": "stream",
     "text": [
      "{0: 0, 2: 4, 4: 16, 6: 36, 8: 64}\n"
     ]
    }
   ],
   "source": [
    "## Condition dictionary comprehension\n",
    "evens={x:x**2 for x in range(10) if x%2==0}\n",
    "print(evens)"
   ]
  },
  {
   "cell_type": "code",
   "execution_count": 4,
   "metadata": {},
   "outputs": [
    {
     "name": "stdout",
     "output_type": "stream",
     "text": [
      "{1: 1, 2: 2, 3: 3, 4: 6}\n"
     ]
    }
   ],
   "source": [
    "## Practical Examples\n",
    "\n",
    "## USe a dictionary to count he frequency of elements in list\n",
    "\n",
    "numbers=[1,2,2,3,3,3,4,4,4,4,4,4]\n",
    "frequency={}\n",
    "\n",
    "for number in numbers:\n",
    "    if number in frequency:\n",
    "        # frequency[number]+=1\n",
    "        frequency[number]= frequency[number] + 1\n",
    "    else:\n",
    "        frequency[number]=1\n",
    "print(frequency)\n"
   ]
  },
  {
   "cell_type": "markdown",
   "metadata": {},
   "source": [
    "The ** unpacks each box, like taking all the items out and laying them on a table"
   ]
  },
  {
   "cell_type": "code",
   "execution_count": 26,
   "metadata": {},
   "outputs": [
    {
     "name": "stdout",
     "output_type": "stream",
     "text": [
      "{'a': 1, 'b': 3, 'c': 4}\n"
     ]
    }
   ],
   "source": [
    "## Merge 2 dictionaries into one\n",
    "\n",
    "dict1={\"a\":1,\"b\":2}\n",
    "dict2={\"b\":3,\"c\":4}\n",
    "merged_dict={**dict1,**dict2}\n",
    "print(merged_dict)"
   ]
  },
  {
   "cell_type": "markdown",
   "metadata": {},
   "source": [
    "#### Conclusion\n",
    "Dictionaries are powerful tools in Python for managing key-value pairs. They are used in a variety of real-world scenarios, such as counting word frequency, grouping data, storing configuration settings, managing phonebooks, tracking inventory, and caching results. Understanding how to leverage dictionaries effectively can greatly enhance the efficiency and readability of your code."
   ]
  }
 ],
 "metadata": {
  "kernelspec": {
   "display_name": "base",
   "language": "python",
   "name": "python3"
  },
  "language_info": {
   "codemirror_mode": {
    "name": "ipython",
    "version": 3
   },
   "file_extension": ".py",
   "mimetype": "text/x-python",
   "name": "python",
   "nbconvert_exporter": "python",
   "pygments_lexer": "ipython3",
   "version": "3.12.7"
  }
 },
 "nbformat": 4,
 "nbformat_minor": 2
}
